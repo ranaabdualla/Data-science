{
 "cells": [
  {
   "cell_type": "code",
   "execution_count": null,
   "metadata": {},
   "outputs": [],
   "source": [
    "#An instructor offers a prize of $20.00 to anyone who thinks that two people in the room have the same birthday.\n",
    "#Your assignment is to build a Monte Carlo simulation \n",
    "#to tell the instructor how many people need to be in the room to give him/her a better than 50% chance of winning the $20.\n",
    "#That is to say how many people need to be in a room in order for the probability of two of them having the same birthday \n",
    "#is greater than 50%. Do the same for 95% and 99%"
   ]
  },
  {
   "cell_type": "code",
   "execution_count": 58,
   "metadata": {},
   "outputs": [],
   "source": [
    "from random import randint\n",
    "import pandas as pd\n",
    "import numpy as np"
   ]
  },
  {
   "cell_type": "code",
   "execution_count": 52,
   "metadata": {},
   "outputs": [],
   "source": [
    " #50%\n",
    "ppl = 50 #number Of poeple, and it >50 beacuse the prop is 50%\n",
    "birthdays = 365 # possible birthadys, days in a year \n",
    "SIMU = 5000 "
   ]
  },
  {
   "cell_type": "code",
   "execution_count": 53,
   "metadata": {},
   "outputs": [],
   "source": [
    "#generate a random birthday\n",
    "def random_birthday():\n",
    "    birthday = randint(1, birthdays)  \n",
    "    return birthday"
   ]
  },
  {
   "cell_type": "code",
   "execution_count": 54,
   "metadata": {},
   "outputs": [],
   "source": [
    "def people_birthdays (ppl):\n",
    "    #to store the birthdays \n",
    "    birthdays_list=[]\n",
    "    for BD in range(ppl):\n",
    "     randombirthday = random_birthday()\n",
    "     birthdays_list.append(randombirthday) \n",
    "    return birthdays_list"
   ]
  },
  {
   "cell_type": "code",
   "execution_count": 55,
   "metadata": {},
   "outputs": [],
   "source": [
    "#Checking if a list of birthdays has coincidence\n",
    "\n",
    "def coincidence (birthdays_list):\n",
    "    unique_birthdays = set(birthdays_list)  # checks if a list has any coincidences or all birthdays are unique.\n",
    "    num_birthdays = len(birthdays_list)\n",
    "    num_unique_birthdays = len(unique_birthdays)\n",
    "    coinc = (num_birthdays != num_unique_birthdays)\n",
    "     \n",
    "    return coinc"
   ]
  },
  {
   "cell_type": "code",
   "execution_count": 56,
   "metadata": {},
   "outputs": [],
   "source": [
    " def prob_birth():\n",
    "    num_coinc = 0\n",
    "    for _ in range(SIMU):\n",
    "        birthdays = people_birthdays(ppl)\n",
    "        has_coincidence = coincidence(birthdays_list)\n",
    "        if has_coincidence:\n",
    "            num_coinc += 1\n",
    " \n",
    "    prob_coinc= num_coinc/ SIMU \n",
    "    return prob_coinc\n",
    " "
   ]
  },
  {
   "cell_type": "code",
   "execution_count": 57,
   "metadata": {},
   "outputs": [
    {
     "name": "stdout",
     "output_type": "stream",
     "text": [
      "Estimated probability after 5000 trials: 1.0\n"
     ]
    }
   ],
   "source": [
    "prob = prob_birth()\n",
    "print(f\"Estimated probability after {SIMU} trials: {prob}\")"
   ]
  },
  {
   "cell_type": "code",
   "execution_count": null,
   "metadata": {},
   "outputs": [],
   "source": []
  }
 ],
 "metadata": {
  "kernelspec": {
   "display_name": "Python 3",
   "language": "python",
   "name": "python3"
  },
  "language_info": {
   "codemirror_mode": {
    "name": "ipython",
    "version": 3
   },
   "file_extension": ".py",
   "mimetype": "text/x-python",
   "name": "python",
   "nbconvert_exporter": "python",
   "pygments_lexer": "ipython3",
   "version": "3.7.4"
  }
 },
 "nbformat": 4,
 "nbformat_minor": 2
}
