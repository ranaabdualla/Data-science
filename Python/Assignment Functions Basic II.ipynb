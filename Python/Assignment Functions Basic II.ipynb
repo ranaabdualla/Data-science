{
 "cells": [
  {
   "cell_type": "code",
   "execution_count": 4,
   "metadata": {},
   "outputs": [
    {
     "name": "stdout",
     "output_type": "stream",
     "text": [
      "[7, 6, 5, 4, 3, 2, 1, 0]\n"
     ]
    }
   ],
   "source": [
    "#Create a function that accepts a number as an input.\n",
    "#Return a new list that counts down by one\n",
    "#from the number (as the 0th element) down to 0 (as the last element).\n",
    "#Example: countdown(5) should return the list: [5,4,3,2,1,0]\n",
    "\n",
    "def countdown (num):\n",
    "    number= []\n",
    "    for i in range (num , -1, -1):\n",
    "        number.append(i)\n",
    "        \n",
    "    return number \n",
    "\n",
    "print(countdown(7))"
   ]
  },
  {
   "cell_type": "code",
   "execution_count": 7,
   "metadata": {},
   "outputs": [
    {
     "name": "stdout",
     "output_type": "stream",
     "text": [
      "3\n",
      "4\n"
     ]
    }
   ],
   "source": [
    "#Create a function that will receive a list with two numbers.\n",
    "#Print the first value and return the second.\n",
    "#Example: print_and_return([1,2]) should print 1 and return 2\n",
    "\n",
    "def listed (list1):\n",
    "    print(list1[0])\n",
    "    return list1[1]\n",
    "\n",
    "listQ= [3,4]\n",
    "print(listed(listQ))"
   ]
  },
  {
   "cell_type": "code",
   "execution_count": 9,
   "metadata": {},
   "outputs": [
    {
     "name": "stdout",
     "output_type": "stream",
     "text": [
      "12\n"
     ]
    }
   ],
   "source": [
    "#Create a function that accepts a list and returns the sum of the first value in the list plus the list's length.\n",
    "#Example: first_plus_length([1,2,3,4,5]) should return 6 (first value: 1 + length: 5)\n",
    "def sum1 (list1):\n",
    "    first_val= list1[0]\n",
    "    len1=len(list1)\n",
    "    sum = first_val + len1\n",
    "    return sum \n",
    "\n",
    "new_list=[5,6,3,7,8,2,4]\n",
    "\n",
    "print(sum1(new_list))"
   ]
  },
  {
   "cell_type": "code",
   "execution_count": 13,
   "metadata": {},
   "outputs": [
    {
     "name": "stdout",
     "output_type": "stream",
     "text": [
      "[9, 9]\n"
     ]
    }
   ],
   "source": [
    "#Write a function that accepts two integers as parameters: size and value. \n",
    "#The function should create and return a list whose length is equal to the given size, \n",
    "#and whose values are all the given value.\n",
    "#Example: length_and_value(4,7) should return [7,7,7,7]\n",
    "\n",
    "def create_list (a,b):\n",
    "    fun_list=[]\n",
    "    for i in range(0,a,1):\n",
    "        fun_list.append(b)\n",
    "    return fun_list\n",
    "\n",
    "print(create_list(2,9))"
   ]
  },
  {
   "cell_type": "code",
   "execution_count": 14,
   "metadata": {},
   "outputs": [
    {
     "name": "stdout",
     "output_type": "stream",
     "text": [
      "3\n",
      "[5, 3, 4]\n"
     ]
    }
   ],
   "source": [
    "#Write a function that accepts a list and creates a new list \n",
    "#containing only the values from the original list that are greater than its 2nd value. \n",
    "#Print how many values this is and then return the new list. If the list has less than 2 elements, \n",
    "#have the function return False\n",
    "#Example: values_greater_than_second([5,2,3,2,1,4]) should print 3 and return [5,3,4]\n",
    "\n",
    "def optinal_Q (list1):\n",
    "    great_2=[]\n",
    "    secondnum= list1[1]\n",
    "    for i in range (0, len(list1)):\n",
    "        if list1[i] > secondnum:\n",
    "            great_2.append(list1[i])\n",
    "    print(len(great_2))\n",
    "    return great_2\n",
    "\n",
    "LST= [5,2,3,2,1,4]\n",
    "print (optinal_Q(LST))\n",
    "            "
   ]
  }
 ],
 "metadata": {
  "kernelspec": {
   "display_name": "Python 3",
   "language": "python",
   "name": "python3"
  },
  "language_info": {
   "codemirror_mode": {
    "name": "ipython",
    "version": 3
   },
   "file_extension": ".py",
   "mimetype": "text/x-python",
   "name": "python",
   "nbconvert_exporter": "python",
   "pygments_lexer": "ipython3",
   "version": "3.7.4"
  }
 },
 "nbformat": 4,
 "nbformat_minor": 2
}
