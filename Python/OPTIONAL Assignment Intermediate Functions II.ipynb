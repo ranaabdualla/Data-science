{
 "cells": [
  {
   "cell_type": "code",
   "execution_count": null,
   "metadata": {},
   "outputs": [],
   "source": [
    "#1.Update Values in Dictionaries and Lists"
   ]
  },
  {
   "cell_type": "code",
   "execution_count": 1,
   "metadata": {},
   "outputs": [
    {
     "name": "stdout",
     "output_type": "stream",
     "text": [
      "[[5, 2, 3], [15, 8, 9]]\n"
     ]
    }
   ],
   "source": [
    "#Change the value 10 in x to 15. Once you're done, x should now be [ [5,2,3], [15,8,9] ].\n",
    "x = [ [5,2,3], [10,8,9] ] \n",
    "#print(x[1][0])\n",
    "x[1][0]=15\n",
    "print(x)\n"
   ]
  },
  {
   "cell_type": "code",
   "execution_count": 2,
   "metadata": {},
   "outputs": [
    {
     "name": "stdout",
     "output_type": "stream",
     "text": [
      "[{'first_name': 'Michael', 'last_name': 'Bryant'}, {'first_name': 'John', 'last_name': 'Rosales'}]\n"
     ]
    }
   ],
   "source": [
    "#Change the last_name of the first student from 'Jordan' to 'Bryant'\n",
    "students = [\n",
    "     {'first_name':  'Michael', 'last_name' : 'Jordan'},\n",
    "     {'first_name' : 'John', 'last_name' : 'Rosales'}\n",
    "]\n",
    "# print(students[0]['last_name'])\n",
    "students[0]['last_name']='Bryant'\n",
    "print(students)"
   ]
  },
  {
   "cell_type": "code",
   "execution_count": 3,
   "metadata": {},
   "outputs": [
    {
     "name": "stdout",
     "output_type": "stream",
     "text": [
      "{'basketball': ['Kobe', 'Jordan', 'James', 'Curry'], 'soccer': ['Andres', 'Ronaldo', 'Rooney']}\n"
     ]
    }
   ],
   "source": [
    "#In the sports_directory, change 'Messi' to 'Andres'\n",
    "sports_directory = {\n",
    "    'basketball' : ['Kobe', 'Jordan', 'James', 'Curry'],\n",
    "    'soccer' : ['Messi', 'Ronaldo', 'Rooney']\n",
    "}\n",
    "#print (sports_directory['soccer'][0])\n",
    "sports_directory['soccer'][0]='Andres'\n",
    "print (sports_directory)\n"
   ]
  },
  {
   "cell_type": "code",
   "execution_count": 5,
   "metadata": {},
   "outputs": [
    {
     "name": "stdout",
     "output_type": "stream",
     "text": [
      "[{'x': 10, 'y': 30}]\n"
     ]
    }
   ],
   "source": [
    "#Change the value 20 in z to 30\n",
    "z = [ {'x': 10, 'y': 20} ]\n",
    "#print(z[0]['y'])\n",
    "z[0]['y']=30\n",
    "print (z)"
   ]
  },
  {
   "cell_type": "code",
   "execution_count": null,
   "metadata": {},
   "outputs": [],
   "source": [
    "#2.Iterate Through a List of Dictionaries"
   ]
  },
  {
   "cell_type": "code",
   "execution_count": 37,
   "metadata": {},
   "outputs": [
    {
     "name": "stdout",
     "output_type": "stream",
     "text": [
      "first_name\n",
      "Michael\n",
      "last_name\n",
      "Jordan\n",
      "first_name\n",
      "John\n",
      "last_name\n",
      "Rosales\n",
      "first_name\n",
      "Mark\n",
      "last_name\n",
      "Guillen\n",
      "first_name\n",
      "KB\n",
      "last_name\n",
      "Tonel\n"
     ]
    }
   ],
   "source": [
    "#Create a function iterateDictionary(some_list) that, given a list of dictionaries, \n",
    "#the function loops through each dictionary in the list and prints each key and the associated value. \n",
    "#For example, given the following list:\n",
    "def iterateDictionary(some_list):\n",
    "    for i in range(len(some_list)):\n",
    "      for key in some_list[i].keys():\n",
    "        print(key)\n",
    "        print(some_list[i][key])\n",
    "students = [\n",
    "         {'first_name':  'Michael', 'last_name' : 'Jordan'}, #0\n",
    "         {'first_name' : 'John', 'last_name' : 'Rosales'}, #1\n",
    "         {'first_name' : 'Mark', 'last_name' : 'Guillen'}, #2\n",
    "         {'first_name' : 'KB', 'last_name' : 'Tonel'} #3\n",
    "    ]\n",
    "iterateDictionary(students) \n",
    "# should output: (it's okay if each key-value pair ends up on 2 separate lines;"
   ]
  },
  {
   "cell_type": "code",
   "execution_count": null,
   "metadata": {},
   "outputs": [],
   "source": [
    "#3.Get Values From a List of Dictionaries"
   ]
  },
  {
   "cell_type": "code",
   "execution_count": 38,
   "metadata": {},
   "outputs": [
    {
     "name": "stdout",
     "output_type": "stream",
     "text": [
      "Michael\n",
      "John\n",
      "Mark\n",
      "KB\n"
     ]
    }
   ],
   "source": [
    "#Create a function iterateDictionary2(key_name, some_list) that, given a list of dictionaries and a key name,\n",
    "#the function prints the value stored in that key for each dictionary.\n",
    "def iterateDictionary2(key_name, some_list):\n",
    "    for i in range (len(some_list)):\n",
    "        print(some_list[i][key_name])\n",
    "        \n",
    "\n",
    "iterateDictionary2('first_name',students)   "
   ]
  },
  {
   "cell_type": "code",
   "execution_count": 39,
   "metadata": {},
   "outputs": [
    {
     "name": "stdout",
     "output_type": "stream",
     "text": [
      "Jordan\n",
      "Rosales\n",
      "Guillen\n",
      "Tonel\n"
     ]
    }
   ],
   "source": [
    "iterateDictionary2('last_name',students)   "
   ]
  },
  {
   "cell_type": "code",
   "execution_count": null,
   "metadata": {},
   "outputs": [],
   "source": [
    "#4.Iterate Through a Dictionary with List Values"
   ]
  },
  {
   "cell_type": "code",
   "execution_count": 50,
   "metadata": {},
   "outputs": [
    {
     "name": "stdout",
     "output_type": "stream",
     "text": [
      "7 LOCATIONS\n",
      "San Jose\n",
      "Seattle\n",
      "Dallas\n",
      "Chicago\n",
      "Tulsa\n",
      "DC\n",
      "Burbank\n",
      "\n",
      "8 INSTRUCTORS\n",
      "Michael\n",
      "Amy\n",
      "Eduardo\n",
      "Josh\n",
      "Graham\n",
      "Patrick\n",
      "Minh\n",
      "Devon\n"
     ]
    }
   ],
   "source": [
    "#Create a function printInfo(some_dict) that given a dictionary whose values are all lists, \n",
    "#prints the name of each key along with the size of its list, \n",
    "#and then prints the associated values within each key's list\n",
    "\n",
    "def printInfo(some_dict):\n",
    "\n",
    "   print(len(some_dict['locations']), \"LOCATIONS\")\n",
    "\n",
    "   for location in some_dict['locations']:\n",
    "\n",
    "       print(location)\n",
    "\n",
    "   print()\n",
    "\n",
    "   print(len(some_dict['instructors']), \"INSTRUCTORS\")\n",
    "\n",
    "   for location in some_dict['instructors']:\n",
    "\n",
    "       print(location)\n",
    "\n",
    "\n",
    "\n",
    "    \n",
    "\n",
    "\n",
    "dojo = {\n",
    "   'locations': ['San Jose', 'Seattle', 'Dallas', 'Chicago', 'Tulsa', 'DC', 'Burbank'],\n",
    "   'instructors': ['Michael', 'Amy', 'Eduardo', 'Josh', 'Graham', 'Patrick', 'Minh', 'Devon']\n",
    "}\n",
    "printInfo(dojo)"
   ]
  },
  {
   "cell_type": "code",
   "execution_count": null,
   "metadata": {},
   "outputs": [],
   "source": []
  }
 ],
 "metadata": {
  "kernelspec": {
   "display_name": "Python 3",
   "language": "python",
   "name": "python3"
  },
  "language_info": {
   "codemirror_mode": {
    "name": "ipython",
    "version": 3
   },
   "file_extension": ".py",
   "mimetype": "text/x-python",
   "name": "python",
   "nbconvert_exporter": "python",
   "pygments_lexer": "ipython3",
   "version": "3.7.4"
  }
 },
 "nbformat": 4,
 "nbformat_minor": 2
}
