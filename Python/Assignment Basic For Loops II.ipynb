{
 "cells": [
  {
   "cell_type": "code",
   "execution_count": 2,
   "metadata": {},
   "outputs": [
    {
     "name": "stdout",
     "output_type": "stream",
     "text": [
      "['big', 'big', 'big', -2, -6, 'big', 'big', 'big', 'big', -1, -6, -4, 0]\n"
     ]
    }
   ],
   "source": [
    "#Given a list, write a function that changes all positive numbers in the list to \"big\".\n",
    "#Example: biggie_size([-1, 3, 5, -5]) returns that same list, but whose values are now [-1, \"big\", \"big\", -5]\n",
    "def positive_val(list1):\n",
    "    for i in range(0, len(list1)):\n",
    "        if list1[i] > 0 :\n",
    "             list1[i] = \"big\"\n",
    "                \n",
    "    return list1\n",
    "\n",
    "\n",
    "list_num = [2,7,8,-2,-6,3,5,8,1,-1,-6,-4,0]  \n",
    "print (positive_val(list_num))"
   ]
  },
  {
   "cell_type": "code",
   "execution_count": 44,
   "metadata": {},
   "outputs": [
    {
     "name": "stdout",
     "output_type": "stream",
     "text": [
      "[-1, 1, 1, 0]\n"
     ]
    }
   ],
   "source": [
    "# Given a list of numbers, create a function to replace the last value with the number of positive values.\n",
    "#(Note that zero is not considered to be a positive number).\n",
    "#Example: count_positives([-1,1,1,1]) changes the original list to [-1,1,1,3] and returns it\n",
    "\n",
    "def lastsum(list1):\n",
    "    count=0\n",
    "    for i in range(0, len(list1)):\n",
    "        if list1[i] > 0 :\n",
    "            count= count + list1[i]\n",
    "            \n",
    "    list1[3] = count\n",
    "    return list1\n",
    "        \n",
    "count_positives=[-1,1,1,1]\n",
    "print(lastsum(count_positives))"
   ]
  },
  {
   "cell_type": "code",
   "execution_count": 27,
   "metadata": {},
   "outputs": [
    {
     "name": "stdout",
     "output_type": "stream",
     "text": [
      "29\n"
     ]
    }
   ],
   "source": [
    "#Create a function that takes a list and returns the sum of all the values in the array.\n",
    "#Example: sum_total([1,2,3,4]) should return 10\n",
    "def sum1 (list1):\n",
    "    sum1=0\n",
    "    for i in range(0, len(list1)):\n",
    "        sum1 = sum1 + list1[i]\n",
    "    return sum1\n",
    "\n",
    "sum_total=[4,7,6,8,4]\n",
    "print (sum1(sum_total))\n"
   ]
  },
  {
   "cell_type": "code",
   "execution_count": 29,
   "metadata": {},
   "outputs": [
    {
     "name": "stdout",
     "output_type": "stream",
     "text": [
      "6.0\n"
     ]
    }
   ],
   "source": [
    "#Create a function that takes a list and returns the average of all the values.\n",
    "#Example: average([1,2,3,4]) should return 2.5\n",
    "\n",
    "def avg (list1):\n",
    "    count= len(list1)\n",
    "    total=0\n",
    "    for i in range(len(list1)):\n",
    "        total = total+ list1[i]\n",
    "        \n",
    "    average=total/count\n",
    "    return average\n",
    "\n",
    "listed=[2,7,9]\n",
    "print (avg(listed))\n",
    "    "
   ]
  },
  {
   "cell_type": "code",
   "execution_count": 30,
   "metadata": {},
   "outputs": [
    {
     "name": "stdout",
     "output_type": "stream",
     "text": [
      "4\n"
     ]
    }
   ],
   "source": [
    "#Create a function that takes a list and returns the length of the list.\n",
    "#Example: length([37,2,1,-9]) should return 4\n",
    "#Example: length([]) should return 0\n",
    "\n",
    "def lengthis (list1):\n",
    "    lenght=len(list1)\n",
    "    return lenght \n",
    "\n",
    "list_=[37,2,1,-9]\n",
    "print (lengthis(list_))"
   ]
  },
  {
   "cell_type": "code",
   "execution_count": 40,
   "metadata": {},
   "outputs": [
    {
     "name": "stdout",
     "output_type": "stream",
     "text": [
      "2\n",
      "false\n"
     ]
    }
   ],
   "source": [
    "#Create a function that takes a list of numbers and returns the minimum value in the list. \n",
    "#(Optional) If the list is empty, have the function return False.\n",
    "#Example: minimum([37,2,1,-9]) should return -9\n",
    "#(Optional) Example: minimum([]) should return False\n",
    "\n",
    "def minmum_val(list1):\n",
    " \n",
    "    if len(list1) == 0:\n",
    "            return \"false\"\n",
    "    \n",
    "    Minn= list1[0]  \n",
    "    for i in range(len(list1)):\n",
    "       \n",
    "            \n",
    "        if list1[i] < Minn:\n",
    "            Minn =list1[i]\n",
    "            return Minn\n",
    "minimum=[5,9,2,6,9,10]\n",
    "\n",
    "print (minmum_val(minimum))\n",
    "empty=[]\n",
    "print (minmum_val(empty))"
   ]
  },
  {
   "cell_type": "code",
   "execution_count": 43,
   "metadata": {},
   "outputs": [
    {
     "name": "stdout",
     "output_type": "stream",
     "text": [
      "9\n",
      "false\n"
     ]
    }
   ],
   "source": [
    "#Create a function that takes a list and returns the maximum value in the array.\n",
    "#(Optional) If the list is empty, have the function return False.\n",
    "#Example: maximum([37,2,1,-9]) should return 37\n",
    "#(Optional) Example: maximum([]) should return False\n",
    "\n",
    "\n",
    "def maximum_val(list1):\n",
    " \n",
    "    if len(list1) == 0:\n",
    "            return \"false\"\n",
    "    \n",
    "    Maxx= list1[0]  \n",
    "    for i in range(len(list1)):\n",
    "        if list1[i] > Maxx:\n",
    "            Maxx =list1[i]\n",
    "            return Maxx\n",
    "\n",
    "maximum=[5,9,2,6,9]\n",
    "\n",
    "print (maximum_val(maximum))\n",
    "empty=[]\n",
    "print (maximum_val(empty))\n"
   ]
  }
 ],
 "metadata": {
  "kernelspec": {
   "display_name": "Python 3",
   "language": "python",
   "name": "python3"
  },
  "language_info": {
   "codemirror_mode": {
    "name": "ipython",
    "version": 3
   },
   "file_extension": ".py",
   "mimetype": "text/x-python",
   "name": "python",
   "nbconvert_exporter": "python",
   "pygments_lexer": "ipython3",
   "version": "3.7.4"
  }
 },
 "nbformat": 4,
 "nbformat_minor": 2
}
