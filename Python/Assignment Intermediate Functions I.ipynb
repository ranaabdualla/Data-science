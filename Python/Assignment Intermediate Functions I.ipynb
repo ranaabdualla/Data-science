{
 "cells": [
  {
   "cell_type": "code",
   "execution_count": 1,
   "metadata": {},
   "outputs": [],
   "source": [
    "#write a single function we are going to name randInt() that takes up to 2 arguments.\n",
    "import random\n",
    "\n"
   ]
  },
  {
   "cell_type": "code",
   "execution_count": null,
   "metadata": {},
   "outputs": [],
   "source": [
    "def randInt1 (maxi=,mini=):\n",
    "    defult= random.random()*100\n",
    "      return round(defult)\n",
    "    \n",
    "    max_only=random.random()*maxi\n",
    "    return round(max_only)\n",
    "    min_only= random.random()* 100 + mini\n",
    "    return round(min_only)\n",
    "    both= random.random()* mini + maxi    \n",
    "    return round(both)\n",
    "print(randInt())    # should print a random integer between 0 to 100\n",
    "print(randInt(max=50))    # should print a random integer between 0 to 50\n",
    "print(randInt(min=50))    # should print a random integer between 50 to 100\n",
    "print(randInt(min=50, max=500))    # should print a random integer between 50 and 500"
   ]
  }
 ],
 "metadata": {
  "kernelspec": {
   "display_name": "Python 3",
   "language": "python",
   "name": "python3"
  },
  "language_info": {
   "codemirror_mode": {
    "name": "ipython",
    "version": 3
   },
   "file_extension": ".py",
   "mimetype": "text/x-python",
   "name": "python",
   "nbconvert_exporter": "python",
   "pygments_lexer": "ipython3",
   "version": "3.7.4"
  }
 },
 "nbformat": 4,
 "nbformat_minor": 2
}
