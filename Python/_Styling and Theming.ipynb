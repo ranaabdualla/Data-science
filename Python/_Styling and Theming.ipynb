{
 "cells": [
  {
   "cell_type": "code",
   "execution_count": 50,
   "metadata": {},
   "outputs": [],
   "source": [
    "from bokeh.io import output_notebook, show\n",
    "from bokeh.plotting import figure\n",
    "import numpy as np"
   ]
  },
  {
   "cell_type": "code",
   "execution_count": 2,
   "metadata": {},
   "outputs": [
    {
     "data": {
      "text/html": [
       "\n",
       "    <div class=\"bk-root\">\n",
       "        <a href=\"https://bokeh.pydata.org\" target=\"_blank\" class=\"bk-logo bk-logo-small bk-logo-notebook\"></a>\n",
       "        <span id=\"1001\">Loading BokehJS ...</span>\n",
       "    </div>"
      ]
     },
     "metadata": {},
     "output_type": "display_data"
    },
    {
     "data": {
      "application/javascript": [
       "\n",
       "(function(root) {\n",
       "  function now() {\n",
       "    return new Date();\n",
       "  }\n",
       "\n",
       "  var force = true;\n",
       "\n",
       "  if (typeof root._bokeh_onload_callbacks === \"undefined\" || force === true) {\n",
       "    root._bokeh_onload_callbacks = [];\n",
       "    root._bokeh_is_loading = undefined;\n",
       "  }\n",
       "\n",
       "  var JS_MIME_TYPE = 'application/javascript';\n",
       "  var HTML_MIME_TYPE = 'text/html';\n",
       "  var EXEC_MIME_TYPE = 'application/vnd.bokehjs_exec.v0+json';\n",
       "  var CLASS_NAME = 'output_bokeh rendered_html';\n",
       "\n",
       "  /**\n",
       "   * Render data to the DOM node\n",
       "   */\n",
       "  function render(props, node) {\n",
       "    var script = document.createElement(\"script\");\n",
       "    node.appendChild(script);\n",
       "  }\n",
       "\n",
       "  /**\n",
       "   * Handle when an output is cleared or removed\n",
       "   */\n",
       "  function handleClearOutput(event, handle) {\n",
       "    var cell = handle.cell;\n",
       "\n",
       "    var id = cell.output_area._bokeh_element_id;\n",
       "    var server_id = cell.output_area._bokeh_server_id;\n",
       "    // Clean up Bokeh references\n",
       "    if (id != null && id in Bokeh.index) {\n",
       "      Bokeh.index[id].model.document.clear();\n",
       "      delete Bokeh.index[id];\n",
       "    }\n",
       "\n",
       "    if (server_id !== undefined) {\n",
       "      // Clean up Bokeh references\n",
       "      var cmd = \"from bokeh.io.state import curstate; print(curstate().uuid_to_server['\" + server_id + \"'].get_sessions()[0].document.roots[0]._id)\";\n",
       "      cell.notebook.kernel.execute(cmd, {\n",
       "        iopub: {\n",
       "          output: function(msg) {\n",
       "            var id = msg.content.text.trim();\n",
       "            if (id in Bokeh.index) {\n",
       "              Bokeh.index[id].model.document.clear();\n",
       "              delete Bokeh.index[id];\n",
       "            }\n",
       "          }\n",
       "        }\n",
       "      });\n",
       "      // Destroy server and session\n",
       "      var cmd = \"import bokeh.io.notebook as ion; ion.destroy_server('\" + server_id + \"')\";\n",
       "      cell.notebook.kernel.execute(cmd);\n",
       "    }\n",
       "  }\n",
       "\n",
       "  /**\n",
       "   * Handle when a new output is added\n",
       "   */\n",
       "  function handleAddOutput(event, handle) {\n",
       "    var output_area = handle.output_area;\n",
       "    var output = handle.output;\n",
       "\n",
       "    // limit handleAddOutput to display_data with EXEC_MIME_TYPE content only\n",
       "    if ((output.output_type != \"display_data\") || (!output.data.hasOwnProperty(EXEC_MIME_TYPE))) {\n",
       "      return\n",
       "    }\n",
       "\n",
       "    var toinsert = output_area.element.find(\".\" + CLASS_NAME.split(' ')[0]);\n",
       "\n",
       "    if (output.metadata[EXEC_MIME_TYPE][\"id\"] !== undefined) {\n",
       "      toinsert[toinsert.length - 1].firstChild.textContent = output.data[JS_MIME_TYPE];\n",
       "      // store reference to embed id on output_area\n",
       "      output_area._bokeh_element_id = output.metadata[EXEC_MIME_TYPE][\"id\"];\n",
       "    }\n",
       "    if (output.metadata[EXEC_MIME_TYPE][\"server_id\"] !== undefined) {\n",
       "      var bk_div = document.createElement(\"div\");\n",
       "      bk_div.innerHTML = output.data[HTML_MIME_TYPE];\n",
       "      var script_attrs = bk_div.children[0].attributes;\n",
       "      for (var i = 0; i < script_attrs.length; i++) {\n",
       "        toinsert[toinsert.length - 1].firstChild.setAttribute(script_attrs[i].name, script_attrs[i].value);\n",
       "      }\n",
       "      // store reference to server id on output_area\n",
       "      output_area._bokeh_server_id = output.metadata[EXEC_MIME_TYPE][\"server_id\"];\n",
       "    }\n",
       "  }\n",
       "\n",
       "  function register_renderer(events, OutputArea) {\n",
       "\n",
       "    function append_mime(data, metadata, element) {\n",
       "      // create a DOM node to render to\n",
       "      var toinsert = this.create_output_subarea(\n",
       "        metadata,\n",
       "        CLASS_NAME,\n",
       "        EXEC_MIME_TYPE\n",
       "      );\n",
       "      this.keyboard_manager.register_events(toinsert);\n",
       "      // Render to node\n",
       "      var props = {data: data, metadata: metadata[EXEC_MIME_TYPE]};\n",
       "      render(props, toinsert[toinsert.length - 1]);\n",
       "      element.append(toinsert);\n",
       "      return toinsert\n",
       "    }\n",
       "\n",
       "    /* Handle when an output is cleared or removed */\n",
       "    events.on('clear_output.CodeCell', handleClearOutput);\n",
       "    events.on('delete.Cell', handleClearOutput);\n",
       "\n",
       "    /* Handle when a new output is added */\n",
       "    events.on('output_added.OutputArea', handleAddOutput);\n",
       "\n",
       "    /**\n",
       "     * Register the mime type and append_mime function with output_area\n",
       "     */\n",
       "    OutputArea.prototype.register_mime_type(EXEC_MIME_TYPE, append_mime, {\n",
       "      /* Is output safe? */\n",
       "      safe: true,\n",
       "      /* Index of renderer in `output_area.display_order` */\n",
       "      index: 0\n",
       "    });\n",
       "  }\n",
       "\n",
       "  // register the mime type if in Jupyter Notebook environment and previously unregistered\n",
       "  if (root.Jupyter !== undefined) {\n",
       "    var events = require('base/js/events');\n",
       "    var OutputArea = require('notebook/js/outputarea').OutputArea;\n",
       "\n",
       "    if (OutputArea.prototype.mime_types().indexOf(EXEC_MIME_TYPE) == -1) {\n",
       "      register_renderer(events, OutputArea);\n",
       "    }\n",
       "  }\n",
       "\n",
       "  \n",
       "  if (typeof (root._bokeh_timeout) === \"undefined\" || force === true) {\n",
       "    root._bokeh_timeout = Date.now() + 5000;\n",
       "    root._bokeh_failed_load = false;\n",
       "  }\n",
       "\n",
       "  var NB_LOAD_WARNING = {'data': {'text/html':\n",
       "     \"<div style='background-color: #fdd'>\\n\"+\n",
       "     \"<p>\\n\"+\n",
       "     \"BokehJS does not appear to have successfully loaded. If loading BokehJS from CDN, this \\n\"+\n",
       "     \"may be due to a slow or bad network connection. Possible fixes:\\n\"+\n",
       "     \"</p>\\n\"+\n",
       "     \"<ul>\\n\"+\n",
       "     \"<li>re-rerun `output_notebook()` to attempt to load from CDN again, or</li>\\n\"+\n",
       "     \"<li>use INLINE resources instead, as so:</li>\\n\"+\n",
       "     \"</ul>\\n\"+\n",
       "     \"<code>\\n\"+\n",
       "     \"from bokeh.resources import INLINE\\n\"+\n",
       "     \"output_notebook(resources=INLINE)\\n\"+\n",
       "     \"</code>\\n\"+\n",
       "     \"</div>\"}};\n",
       "\n",
       "  function display_loaded() {\n",
       "    var el = document.getElementById(\"1001\");\n",
       "    if (el != null) {\n",
       "      el.textContent = \"BokehJS is loading...\";\n",
       "    }\n",
       "    if (root.Bokeh !== undefined) {\n",
       "      if (el != null) {\n",
       "        el.textContent = \"BokehJS \" + root.Bokeh.version + \" successfully loaded.\";\n",
       "      }\n",
       "    } else if (Date.now() < root._bokeh_timeout) {\n",
       "      setTimeout(display_loaded, 100)\n",
       "    }\n",
       "  }\n",
       "\n",
       "\n",
       "  function run_callbacks() {\n",
       "    try {\n",
       "      root._bokeh_onload_callbacks.forEach(function(callback) {\n",
       "        if (callback != null)\n",
       "          callback();\n",
       "      });\n",
       "    } finally {\n",
       "      delete root._bokeh_onload_callbacks\n",
       "    }\n",
       "    console.debug(\"Bokeh: all callbacks have finished\");\n",
       "  }\n",
       "\n",
       "  function load_libs(css_urls, js_urls, callback) {\n",
       "    if (css_urls == null) css_urls = [];\n",
       "    if (js_urls == null) js_urls = [];\n",
       "\n",
       "    root._bokeh_onload_callbacks.push(callback);\n",
       "    if (root._bokeh_is_loading > 0) {\n",
       "      console.debug(\"Bokeh: BokehJS is being loaded, scheduling callback at\", now());\n",
       "      return null;\n",
       "    }\n",
       "    if (js_urls == null || js_urls.length === 0) {\n",
       "      run_callbacks();\n",
       "      return null;\n",
       "    }\n",
       "    console.debug(\"Bokeh: BokehJS not loaded, scheduling load and callback at\", now());\n",
       "    root._bokeh_is_loading = css_urls.length + js_urls.length;\n",
       "\n",
       "    function on_load() {\n",
       "      root._bokeh_is_loading--;\n",
       "      if (root._bokeh_is_loading === 0) {\n",
       "        console.debug(\"Bokeh: all BokehJS libraries/stylesheets loaded\");\n",
       "        run_callbacks()\n",
       "      }\n",
       "    }\n",
       "\n",
       "    function on_error() {\n",
       "      console.error(\"failed to load \" + url);\n",
       "    }\n",
       "\n",
       "    for (var i = 0; i < css_urls.length; i++) {\n",
       "      var url = css_urls[i];\n",
       "      const element = document.createElement(\"link\");\n",
       "      element.onload = on_load;\n",
       "      element.onerror = on_error;\n",
       "      element.rel = \"stylesheet\";\n",
       "      element.type = \"text/css\";\n",
       "      element.href = url;\n",
       "      console.debug(\"Bokeh: injecting link tag for BokehJS stylesheet: \", url);\n",
       "      document.body.appendChild(element);\n",
       "    }\n",
       "\n",
       "    for (var i = 0; i < js_urls.length; i++) {\n",
       "      var url = js_urls[i];\n",
       "      var element = document.createElement('script');\n",
       "      element.onload = on_load;\n",
       "      element.onerror = on_error;\n",
       "      element.async = false;\n",
       "      element.src = url;\n",
       "      console.debug(\"Bokeh: injecting script tag for BokehJS library: \", url);\n",
       "      document.head.appendChild(element);\n",
       "    }\n",
       "  };var element = document.getElementById(\"1001\");\n",
       "  if (element == null) {\n",
       "    console.error(\"Bokeh: ERROR: autoload.js configured with elementid '1001' but no matching script tag was found. \")\n",
       "    return false;\n",
       "  }\n",
       "\n",
       "  function inject_raw_css(css) {\n",
       "    const element = document.createElement(\"style\");\n",
       "    element.appendChild(document.createTextNode(css));\n",
       "    document.body.appendChild(element);\n",
       "  }\n",
       "\n",
       "  var js_urls = [\"https://cdn.pydata.org/bokeh/release/bokeh-1.3.4.min.js\", \"https://cdn.pydata.org/bokeh/release/bokeh-widgets-1.3.4.min.js\", \"https://cdn.pydata.org/bokeh/release/bokeh-tables-1.3.4.min.js\", \"https://cdn.pydata.org/bokeh/release/bokeh-gl-1.3.4.min.js\"];\n",
       "  var css_urls = [];\n",
       "\n",
       "  var inline_js = [\n",
       "    function(Bokeh) {\n",
       "      Bokeh.set_log_level(\"info\");\n",
       "    },\n",
       "    \n",
       "    function(Bokeh) {\n",
       "      \n",
       "    },\n",
       "    function(Bokeh) {} // ensure no trailing comma for IE\n",
       "  ];\n",
       "\n",
       "  function run_inline_js() {\n",
       "    \n",
       "    if ((root.Bokeh !== undefined) || (force === true)) {\n",
       "      for (var i = 0; i < inline_js.length; i++) {\n",
       "        inline_js[i].call(root, root.Bokeh);\n",
       "      }if (force === true) {\n",
       "        display_loaded();\n",
       "      }} else if (Date.now() < root._bokeh_timeout) {\n",
       "      setTimeout(run_inline_js, 100);\n",
       "    } else if (!root._bokeh_failed_load) {\n",
       "      console.log(\"Bokeh: BokehJS failed to load within specified timeout.\");\n",
       "      root._bokeh_failed_load = true;\n",
       "    } else if (force !== true) {\n",
       "      var cell = $(document.getElementById(\"1001\")).parents('.cell').data().cell;\n",
       "      cell.output_area.append_execute_result(NB_LOAD_WARNING)\n",
       "    }\n",
       "\n",
       "  }\n",
       "\n",
       "  if (root._bokeh_is_loading === 0) {\n",
       "    console.debug(\"Bokeh: BokehJS loaded, going straight to plotting\");\n",
       "    run_inline_js();\n",
       "  } else {\n",
       "    load_libs(css_urls, js_urls, function() {\n",
       "      console.debug(\"Bokeh: BokehJS plotting callback run at\", now());\n",
       "      run_inline_js();\n",
       "    });\n",
       "  }\n",
       "}(window));"
      ],
      "application/vnd.bokehjs_load.v0+json": "\n(function(root) {\n  function now() {\n    return new Date();\n  }\n\n  var force = true;\n\n  if (typeof root._bokeh_onload_callbacks === \"undefined\" || force === true) {\n    root._bokeh_onload_callbacks = [];\n    root._bokeh_is_loading = undefined;\n  }\n\n  \n\n  \n  if (typeof (root._bokeh_timeout) === \"undefined\" || force === true) {\n    root._bokeh_timeout = Date.now() + 5000;\n    root._bokeh_failed_load = false;\n  }\n\n  var NB_LOAD_WARNING = {'data': {'text/html':\n     \"<div style='background-color: #fdd'>\\n\"+\n     \"<p>\\n\"+\n     \"BokehJS does not appear to have successfully loaded. If loading BokehJS from CDN, this \\n\"+\n     \"may be due to a slow or bad network connection. Possible fixes:\\n\"+\n     \"</p>\\n\"+\n     \"<ul>\\n\"+\n     \"<li>re-rerun `output_notebook()` to attempt to load from CDN again, or</li>\\n\"+\n     \"<li>use INLINE resources instead, as so:</li>\\n\"+\n     \"</ul>\\n\"+\n     \"<code>\\n\"+\n     \"from bokeh.resources import INLINE\\n\"+\n     \"output_notebook(resources=INLINE)\\n\"+\n     \"</code>\\n\"+\n     \"</div>\"}};\n\n  function display_loaded() {\n    var el = document.getElementById(\"1001\");\n    if (el != null) {\n      el.textContent = \"BokehJS is loading...\";\n    }\n    if (root.Bokeh !== undefined) {\n      if (el != null) {\n        el.textContent = \"BokehJS \" + root.Bokeh.version + \" successfully loaded.\";\n      }\n    } else if (Date.now() < root._bokeh_timeout) {\n      setTimeout(display_loaded, 100)\n    }\n  }\n\n\n  function run_callbacks() {\n    try {\n      root._bokeh_onload_callbacks.forEach(function(callback) {\n        if (callback != null)\n          callback();\n      });\n    } finally {\n      delete root._bokeh_onload_callbacks\n    }\n    console.debug(\"Bokeh: all callbacks have finished\");\n  }\n\n  function load_libs(css_urls, js_urls, callback) {\n    if (css_urls == null) css_urls = [];\n    if (js_urls == null) js_urls = [];\n\n    root._bokeh_onload_callbacks.push(callback);\n    if (root._bokeh_is_loading > 0) {\n      console.debug(\"Bokeh: BokehJS is being loaded, scheduling callback at\", now());\n      return null;\n    }\n    if (js_urls == null || js_urls.length === 0) {\n      run_callbacks();\n      return null;\n    }\n    console.debug(\"Bokeh: BokehJS not loaded, scheduling load and callback at\", now());\n    root._bokeh_is_loading = css_urls.length + js_urls.length;\n\n    function on_load() {\n      root._bokeh_is_loading--;\n      if (root._bokeh_is_loading === 0) {\n        console.debug(\"Bokeh: all BokehJS libraries/stylesheets loaded\");\n        run_callbacks()\n      }\n    }\n\n    function on_error() {\n      console.error(\"failed to load \" + url);\n    }\n\n    for (var i = 0; i < css_urls.length; i++) {\n      var url = css_urls[i];\n      const element = document.createElement(\"link\");\n      element.onload = on_load;\n      element.onerror = on_error;\n      element.rel = \"stylesheet\";\n      element.type = \"text/css\";\n      element.href = url;\n      console.debug(\"Bokeh: injecting link tag for BokehJS stylesheet: \", url);\n      document.body.appendChild(element);\n    }\n\n    for (var i = 0; i < js_urls.length; i++) {\n      var url = js_urls[i];\n      var element = document.createElement('script');\n      element.onload = on_load;\n      element.onerror = on_error;\n      element.async = false;\n      element.src = url;\n      console.debug(\"Bokeh: injecting script tag for BokehJS library: \", url);\n      document.head.appendChild(element);\n    }\n  };var element = document.getElementById(\"1001\");\n  if (element == null) {\n    console.error(\"Bokeh: ERROR: autoload.js configured with elementid '1001' but no matching script tag was found. \")\n    return false;\n  }\n\n  function inject_raw_css(css) {\n    const element = document.createElement(\"style\");\n    element.appendChild(document.createTextNode(css));\n    document.body.appendChild(element);\n  }\n\n  var js_urls = [\"https://cdn.pydata.org/bokeh/release/bokeh-1.3.4.min.js\", \"https://cdn.pydata.org/bokeh/release/bokeh-widgets-1.3.4.min.js\", \"https://cdn.pydata.org/bokeh/release/bokeh-tables-1.3.4.min.js\", \"https://cdn.pydata.org/bokeh/release/bokeh-gl-1.3.4.min.js\"];\n  var css_urls = [];\n\n  var inline_js = [\n    function(Bokeh) {\n      Bokeh.set_log_level(\"info\");\n    },\n    \n    function(Bokeh) {\n      \n    },\n    function(Bokeh) {} // ensure no trailing comma for IE\n  ];\n\n  function run_inline_js() {\n    \n    if ((root.Bokeh !== undefined) || (force === true)) {\n      for (var i = 0; i < inline_js.length; i++) {\n        inline_js[i].call(root, root.Bokeh);\n      }if (force === true) {\n        display_loaded();\n      }} else if (Date.now() < root._bokeh_timeout) {\n      setTimeout(run_inline_js, 100);\n    } else if (!root._bokeh_failed_load) {\n      console.log(\"Bokeh: BokehJS failed to load within specified timeout.\");\n      root._bokeh_failed_load = true;\n    } else if (force !== true) {\n      var cell = $(document.getElementById(\"1001\")).parents('.cell').data().cell;\n      cell.output_area.append_execute_result(NB_LOAD_WARNING)\n    }\n\n  }\n\n  if (root._bokeh_is_loading === 0) {\n    console.debug(\"Bokeh: BokehJS loaded, going straight to plotting\");\n    run_inline_js();\n  } else {\n    load_libs(css_urls, js_urls, function() {\n      console.debug(\"Bokeh: BokehJS plotting callback run at\", now());\n      run_inline_js();\n    });\n  }\n}(window));"
     },
     "metadata": {},
     "output_type": "display_data"
    }
   ],
   "source": [
    "output_notebook()"
   ]
  },
  {
   "cell_type": "code",
   "execution_count": 3,
   "metadata": {},
   "outputs": [
    {
     "name": "stdout",
     "output_type": "stream",
     "text": [
      "Using data directory: C:\\Users\\RA\\.bokeh\\data\n",
      "Downloading: CGM.csv (1589982 bytes)\n",
      "   1589982 [100.00%]\n",
      "Downloading: US_Counties.zip (3171836 bytes)\n",
      "   3171836 [100.00%]\n",
      "Unpacking: US_Counties.csv\n",
      "Downloading: us_cities.json (713565 bytes)\n",
      "    713565 [100.00%]\n",
      "Downloading: unemployment09.csv (253301 bytes)\n",
      "    253301 [100.00%]\n",
      "Downloading: AAPL.csv (166698 bytes)\n",
      "    166698 [100.00%]\n",
      "Downloading: FB.csv (9706 bytes)\n",
      "      9706 [100.00%]\n",
      "Downloading: GOOG.csv (113894 bytes)\n",
      "    113894 [100.00%]\n",
      "Downloading: IBM.csv (165625 bytes)\n",
      "    165625 [100.00%]\n",
      "Downloading: MSFT.csv (161614 bytes)\n",
      "    161614 [100.00%]\n",
      "Downloading: WPP2012_SA_DB03_POPULATION_QUINQUENNIAL.zip (4816256 bytes)\n",
      "   4816256 [100.00%]\n",
      "Unpacking: WPP2012_SA_DB03_POPULATION_QUINQUENNIAL.csv\n",
      "Downloading: gapminder_fertility.csv (64346 bytes)\n",
      "     64346 [100.00%]\n",
      "Downloading: gapminder_population.csv (94509 bytes)\n",
      "     94509 [100.00%]\n",
      "Downloading: gapminder_life_expectancy.csv (73243 bytes)\n",
      "     73243 [100.00%]\n",
      "Downloading: gapminder_regions.csv (7781 bytes)\n",
      "      7781 [100.00%]\n",
      "Downloading: world_cities.zip (645274 bytes)\n",
      "    645274 [100.00%]\n",
      "Unpacking: world_cities.csv\n",
      "Downloading: airports.json (6373 bytes)\n",
      "      6373 [100.00%]\n",
      "Downloading: movies.db.zip (5053420 bytes)\n",
      "   5053420 [100.00%]\n",
      "Unpacking: movies.db\n",
      "Downloading: airports.csv (203190 bytes)\n",
      "    203190 [100.00%]\n",
      "Downloading: routes.csv (377280 bytes)\n",
      "    377280 [100.00%]\n",
      "Downloading: haarcascade_frontalface_default.xml (930127 bytes)\n",
      "    930127 [100.00%]\n"
     ]
    }
   ],
   "source": [
    "import bokeh.sampledata\n",
    "bokeh.sampledata.download()"
   ]
  },
  {
   "cell_type": "code",
   "execution_count": 4,
   "metadata": {},
   "outputs": [
    {
     "data": {
      "text/html": [
       "\n",
       "\n",
       "\n",
       "\n",
       "\n",
       "\n",
       "  <div class=\"bk-root\" id=\"21b5cf3f-b9a3-4df3-9b5f-2069b10cf6ce\" data-root-id=\"1002\"></div>\n"
      ]
     },
     "metadata": {},
     "output_type": "display_data"
    },
    {
     "data": {
      "application/javascript": [
       "(function(root) {\n",
       "  function embed_document(root) {\n",
       "    \n",
       "  var docs_json = {\"dd685464-5496-465d-a197-629c949253d6\":{\"roots\":{\"references\":[{\"attributes\":{\"below\":[{\"id\":\"1011\",\"type\":\"LinearAxis\"}],\"center\":[{\"id\":\"1015\",\"type\":\"Grid\"},{\"id\":\"1020\",\"type\":\"Grid\"}],\"left\":[{\"id\":\"1016\",\"type\":\"LinearAxis\"}],\"outline_line_alpha\":{\"value\":0.3},\"outline_line_color\":{\"value\":\"navy\"},\"outline_line_width\":{\"value\":7},\"plot_height\":400,\"plot_width\":400,\"renderers\":[{\"id\":\"1037\",\"type\":\"GlyphRenderer\"}],\"title\":{\"id\":\"1039\",\"type\":\"Title\"},\"toolbar\":{\"id\":\"1027\",\"type\":\"Toolbar\"},\"x_range\":{\"id\":\"1003\",\"type\":\"DataRange1d\"},\"x_scale\":{\"id\":\"1007\",\"type\":\"LinearScale\"},\"y_range\":{\"id\":\"1005\",\"type\":\"DataRange1d\"},\"y_scale\":{\"id\":\"1009\",\"type\":\"LinearScale\"}},\"id\":\"1002\",\"subtype\":\"Figure\",\"type\":\"Plot\"},{\"attributes\":{\"ticker\":{\"id\":\"1012\",\"type\":\"BasicTicker\"}},\"id\":\"1015\",\"type\":\"Grid\"},{\"attributes\":{\"dimension\":1,\"ticker\":{\"id\":\"1017\",\"type\":\"BasicTicker\"}},\"id\":\"1020\",\"type\":\"Grid\"},{\"attributes\":{\"formatter\":{\"id\":\"1044\",\"type\":\"BasicTickFormatter\"},\"ticker\":{\"id\":\"1017\",\"type\":\"BasicTicker\"}},\"id\":\"1016\",\"type\":\"LinearAxis\"},{\"attributes\":{\"formatter\":{\"id\":\"1042\",\"type\":\"BasicTickFormatter\"},\"ticker\":{\"id\":\"1012\",\"type\":\"BasicTicker\"}},\"id\":\"1011\",\"type\":\"LinearAxis\"},{\"attributes\":{\"active_drag\":\"auto\",\"active_inspect\":\"auto\",\"active_multi\":null,\"active_scroll\":\"auto\",\"active_tap\":\"auto\",\"tools\":[{\"id\":\"1021\",\"type\":\"PanTool\"},{\"id\":\"1022\",\"type\":\"WheelZoomTool\"},{\"id\":\"1023\",\"type\":\"BoxZoomTool\"},{\"id\":\"1024\",\"type\":\"SaveTool\"},{\"id\":\"1025\",\"type\":\"ResetTool\"},{\"id\":\"1026\",\"type\":\"HelpTool\"}]},\"id\":\"1027\",\"type\":\"Toolbar\"},{\"attributes\":{\"fill_color\":{\"value\":\"#1f77b4\"},\"line_color\":{\"value\":\"#1f77b4\"},\"size\":{\"units\":\"screen\",\"value\":10},\"x\":{\"field\":\"x\"},\"y\":{\"field\":\"y\"}},\"id\":\"1035\",\"type\":\"Circle\"},{\"attributes\":{},\"id\":\"1021\",\"type\":\"PanTool\"},{\"attributes\":{},\"id\":\"1022\",\"type\":\"WheelZoomTool\"},{\"attributes\":{\"overlay\":{\"id\":\"1045\",\"type\":\"BoxAnnotation\"}},\"id\":\"1023\",\"type\":\"BoxZoomTool\"},{\"attributes\":{},\"id\":\"1044\",\"type\":\"BasicTickFormatter\"},{\"attributes\":{},\"id\":\"1024\",\"type\":\"SaveTool\"},{\"attributes\":{},\"id\":\"1046\",\"type\":\"UnionRenderers\"},{\"attributes\":{\"data_source\":{\"id\":\"1034\",\"type\":\"ColumnDataSource\"},\"glyph\":{\"id\":\"1035\",\"type\":\"Circle\"},\"hover_glyph\":null,\"muted_glyph\":null,\"nonselection_glyph\":{\"id\":\"1036\",\"type\":\"Circle\"},\"selection_glyph\":null,\"view\":{\"id\":\"1038\",\"type\":\"CDSView\"}},\"id\":\"1037\",\"type\":\"GlyphRenderer\"},{\"attributes\":{},\"id\":\"1025\",\"type\":\"ResetTool\"},{\"attributes\":{\"fill_alpha\":{\"value\":0.1},\"fill_color\":{\"value\":\"#1f77b4\"},\"line_alpha\":{\"value\":0.1},\"line_color\":{\"value\":\"#1f77b4\"},\"size\":{\"units\":\"screen\",\"value\":10},\"x\":{\"field\":\"x\"},\"y\":{\"field\":\"y\"}},\"id\":\"1036\",\"type\":\"Circle\"},{\"attributes\":{\"callback\":null,\"data\":{\"x\":[1,2,3,4,5],\"y\":[2,5,8,2,7]},\"selected\":{\"id\":\"1047\",\"type\":\"Selection\"},\"selection_policy\":{\"id\":\"1046\",\"type\":\"UnionRenderers\"}},\"id\":\"1034\",\"type\":\"ColumnDataSource\"},{\"attributes\":{},\"id\":\"1026\",\"type\":\"HelpTool\"},{\"attributes\":{\"text\":\"\"},\"id\":\"1039\",\"type\":\"Title\"},{\"attributes\":{\"bottom_units\":\"screen\",\"fill_alpha\":{\"value\":0.5},\"fill_color\":{\"value\":\"lightgrey\"},\"left_units\":\"screen\",\"level\":\"overlay\",\"line_alpha\":{\"value\":1.0},\"line_color\":{\"value\":\"black\"},\"line_dash\":[4,4],\"line_width\":{\"value\":2},\"render_mode\":\"css\",\"right_units\":\"screen\",\"top_units\":\"screen\"},\"id\":\"1045\",\"type\":\"BoxAnnotation\"},{\"attributes\":{},\"id\":\"1042\",\"type\":\"BasicTickFormatter\"},{\"attributes\":{},\"id\":\"1047\",\"type\":\"Selection\"},{\"attributes\":{\"source\":{\"id\":\"1034\",\"type\":\"ColumnDataSource\"}},\"id\":\"1038\",\"type\":\"CDSView\"},{\"attributes\":{\"callback\":null},\"id\":\"1003\",\"type\":\"DataRange1d\"},{\"attributes\":{\"callback\":null},\"id\":\"1005\",\"type\":\"DataRange1d\"},{\"attributes\":{},\"id\":\"1007\",\"type\":\"LinearScale\"},{\"attributes\":{},\"id\":\"1017\",\"type\":\"BasicTicker\"},{\"attributes\":{},\"id\":\"1009\",\"type\":\"LinearScale\"},{\"attributes\":{},\"id\":\"1012\",\"type\":\"BasicTicker\"}],\"root_ids\":[\"1002\"]},\"title\":\"Bokeh Application\",\"version\":\"1.3.4\"}};\n",
       "  var render_items = [{\"docid\":\"dd685464-5496-465d-a197-629c949253d6\",\"roots\":{\"1002\":\"21b5cf3f-b9a3-4df3-9b5f-2069b10cf6ce\"}}];\n",
       "  root.Bokeh.embed.embed_items_notebook(docs_json, render_items);\n",
       "\n",
       "  }\n",
       "  if (root.Bokeh !== undefined) {\n",
       "    embed_document(root);\n",
       "  } else {\n",
       "    var attempts = 0;\n",
       "    var timer = setInterval(function(root) {\n",
       "      if (root.Bokeh !== undefined) {\n",
       "        embed_document(root);\n",
       "        clearInterval(timer);\n",
       "      }\n",
       "      attempts++;\n",
       "      if (attempts > 100) {\n",
       "        console.log(\"Bokeh: ERROR: Unable to run BokehJS code because BokehJS library is missing\");\n",
       "        clearInterval(timer);\n",
       "      }\n",
       "    }, 10, root)\n",
       "  }\n",
       "})(window);"
      ],
      "application/vnd.bokehjs_exec.v0+json": ""
     },
     "metadata": {
      "application/vnd.bokehjs_exec.v0+json": {
       "id": "1002"
      }
     },
     "output_type": "display_data"
    }
   ],
   "source": [
    "# create a new plot with a title\n",
    "p = figure(plot_width=400, plot_height=400)\n",
    "p.outline_line_width = 7\n",
    "p.outline_line_alpha = 0.3\n",
    "p.outline_line_color = \"navy\"\n",
    "\n",
    "p.circle([1,2,3,4,5], [2,5,8,2,7], size=10)\n",
    "\n",
    "show(p)"
   ]
  },
  {
   "cell_type": "code",
   "execution_count": 17,
   "metadata": {},
   "outputs": [
    {
     "data": {
      "text/html": [
       "\n",
       "\n",
       "\n",
       "\n",
       "\n",
       "\n",
       "  <div class=\"bk-root\" id=\"f54b2881-4b1c-4537-8549-d07b86699d0a\" data-root-id=\"2226\"></div>\n"
      ]
     },
     "metadata": {},
     "output_type": "display_data"
    },
    {
     "data": {
      "application/javascript": [
       "(function(root) {\n",
       "  function embed_document(root) {\n",
       "    \n",
       "  var docs_json = {\"2771d696-f38f-46b1-b624-2a7a8297533d\":{\"roots\":{\"references\":[{\"attributes\":{\"below\":[{\"id\":\"2235\",\"type\":\"LinearAxis\"}],\"center\":[{\"id\":\"2239\",\"type\":\"Grid\"},{\"id\":\"2244\",\"type\":\"Grid\"}],\"left\":[{\"id\":\"2240\",\"type\":\"LinearAxis\"}],\"outline_line_alpha\":{\"value\":90},\"outline_line_color\":{\"value\":\"#9ACD32\"},\"outline_line_width\":{\"value\":2},\"plot_height\":400,\"plot_width\":400,\"renderers\":[{\"id\":\"2261\",\"type\":\"GlyphRenderer\"}],\"title\":{\"id\":\"2344\",\"type\":\"Title\"},\"toolbar\":{\"id\":\"2251\",\"type\":\"Toolbar\"},\"x_range\":{\"id\":\"2227\",\"type\":\"DataRange1d\"},\"x_scale\":{\"id\":\"2231\",\"type\":\"LinearScale\"},\"y_range\":{\"id\":\"2229\",\"type\":\"DataRange1d\"},\"y_scale\":{\"id\":\"2233\",\"type\":\"LinearScale\"}},\"id\":\"2226\",\"subtype\":\"Figure\",\"type\":\"Plot\"},{\"attributes\":{},\"id\":\"2351\",\"type\":\"UnionRenderers\"},{\"attributes\":{\"text\":\"\"},\"id\":\"2344\",\"type\":\"Title\"},{\"attributes\":{\"callback\":null},\"id\":\"2227\",\"type\":\"DataRange1d\"},{\"attributes\":{\"callback\":null},\"id\":\"2229\",\"type\":\"DataRange1d\"},{\"attributes\":{},\"id\":\"2231\",\"type\":\"LinearScale\"},{\"attributes\":{\"bottom_units\":\"screen\",\"fill_alpha\":{\"value\":0.5},\"fill_color\":{\"value\":\"lightgrey\"},\"left_units\":\"screen\",\"level\":\"overlay\",\"line_alpha\":{\"value\":1.0},\"line_color\":{\"value\":\"black\"},\"line_dash\":[4,4],\"line_width\":{\"value\":2},\"render_mode\":\"css\",\"right_units\":\"screen\",\"top_units\":\"screen\"},\"id\":\"2350\",\"type\":\"BoxAnnotation\"},{\"attributes\":{},\"id\":\"2236\",\"type\":\"BasicTicker\"},{\"attributes\":{\"formatter\":{\"id\":\"2347\",\"type\":\"BasicTickFormatter\"},\"ticker\":{\"id\":\"2236\",\"type\":\"BasicTicker\"}},\"id\":\"2235\",\"type\":\"LinearAxis\"},{\"attributes\":{},\"id\":\"2233\",\"type\":\"LinearScale\"},{\"attributes\":{\"ticker\":{\"id\":\"2236\",\"type\":\"BasicTicker\"}},\"id\":\"2239\",\"type\":\"Grid\"},{\"attributes\":{},\"id\":\"2241\",\"type\":\"BasicTicker\"},{\"attributes\":{},\"id\":\"2349\",\"type\":\"BasicTickFormatter\"},{\"attributes\":{\"fill_color\":{\"value\":\"#F08080\"},\"line_color\":{\"value\":\"#F08080\"},\"size\":{\"units\":\"screen\",\"value\":6},\"x\":{\"field\":\"x\"},\"y\":{\"field\":\"y\"}},\"id\":\"2259\",\"type\":\"Circle\"},{\"attributes\":{\"active_drag\":\"auto\",\"active_inspect\":\"auto\",\"active_multi\":null,\"active_scroll\":\"auto\",\"active_tap\":\"auto\",\"tools\":[{\"id\":\"2245\",\"type\":\"PanTool\"},{\"id\":\"2246\",\"type\":\"WheelZoomTool\"},{\"id\":\"2247\",\"type\":\"BoxZoomTool\"},{\"id\":\"2248\",\"type\":\"SaveTool\"},{\"id\":\"2249\",\"type\":\"ResetTool\"},{\"id\":\"2250\",\"type\":\"HelpTool\"}]},\"id\":\"2251\",\"type\":\"Toolbar\"},{\"attributes\":{\"source\":{\"id\":\"2258\",\"type\":\"ColumnDataSource\"}},\"id\":\"2262\",\"type\":\"CDSView\"},{\"attributes\":{\"data_source\":{\"id\":\"2258\",\"type\":\"ColumnDataSource\"},\"glyph\":{\"id\":\"2259\",\"type\":\"Circle\"},\"hover_glyph\":null,\"muted_glyph\":null,\"nonselection_glyph\":{\"id\":\"2260\",\"type\":\"Circle\"},\"selection_glyph\":null,\"view\":{\"id\":\"2262\",\"type\":\"CDSView\"}},\"id\":\"2261\",\"type\":\"GlyphRenderer\"},{\"attributes\":{},\"id\":\"2352\",\"type\":\"Selection\"},{\"attributes\":{\"formatter\":{\"id\":\"2349\",\"type\":\"BasicTickFormatter\"},\"ticker\":{\"id\":\"2241\",\"type\":\"BasicTicker\"}},\"id\":\"2240\",\"type\":\"LinearAxis\"},{\"attributes\":{\"fill_alpha\":{\"value\":0.1},\"fill_color\":{\"value\":\"#1f77b4\"},\"line_alpha\":{\"value\":0.1},\"line_color\":{\"value\":\"#1f77b4\"},\"size\":{\"units\":\"screen\",\"value\":6},\"x\":{\"field\":\"x\"},\"y\":{\"field\":\"y\"}},\"id\":\"2260\",\"type\":\"Circle\"},{\"attributes\":{\"dimension\":1,\"ticker\":{\"id\":\"2241\",\"type\":\"BasicTicker\"}},\"id\":\"2244\",\"type\":\"Grid\"},{\"attributes\":{},\"id\":\"2248\",\"type\":\"SaveTool\"},{\"attributes\":{\"overlay\":{\"id\":\"2350\",\"type\":\"BoxAnnotation\"}},\"id\":\"2247\",\"type\":\"BoxZoomTool\"},{\"attributes\":{},\"id\":\"2246\",\"type\":\"WheelZoomTool\"},{\"attributes\":{},\"id\":\"2245\",\"type\":\"PanTool\"},{\"attributes\":{\"callback\":null,\"data\":{\"x\":[1,7,4,3,9],\"y\":[6,9,1,4,3]},\"selected\":{\"id\":\"2352\",\"type\":\"Selection\"},\"selection_policy\":{\"id\":\"2351\",\"type\":\"UnionRenderers\"}},\"id\":\"2258\",\"type\":\"ColumnDataSource\"},{\"attributes\":{},\"id\":\"2249\",\"type\":\"ResetTool\"},{\"attributes\":{},\"id\":\"2250\",\"type\":\"HelpTool\"},{\"attributes\":{},\"id\":\"2347\",\"type\":\"BasicTickFormatter\"}],\"root_ids\":[\"2226\"]},\"title\":\"Bokeh Application\",\"version\":\"1.3.4\"}};\n",
       "  var render_items = [{\"docid\":\"2771d696-f38f-46b1-b624-2a7a8297533d\",\"roots\":{\"2226\":\"f54b2881-4b1c-4537-8549-d07b86699d0a\"}}];\n",
       "  root.Bokeh.embed.embed_items_notebook(docs_json, render_items);\n",
       "\n",
       "  }\n",
       "  if (root.Bokeh !== undefined) {\n",
       "    embed_document(root);\n",
       "  } else {\n",
       "    var attempts = 0;\n",
       "    var timer = setInterval(function(root) {\n",
       "      if (root.Bokeh !== undefined) {\n",
       "        embed_document(root);\n",
       "        clearInterval(timer);\n",
       "      }\n",
       "      attempts++;\n",
       "      if (attempts > 100) {\n",
       "        console.log(\"Bokeh: ERROR: Unable to run BokehJS code because BokehJS library is missing\");\n",
       "        clearInterval(timer);\n",
       "      }\n",
       "    }, 10, root)\n",
       "  }\n",
       "})(window);"
      ],
      "application/vnd.bokehjs_exec.v0+json": ""
     },
     "metadata": {
      "application/vnd.bokehjs_exec.v0+json": {
       "id": "2226"
      }
     },
     "output_type": "display_data"
    }
   ],
   "source": [
    "# EXERCISE Create a plot of your own and customize several plot-level properties\n",
    "# Visual properties come in three kinds: line, fill, and text properties\n",
    "p = figure(plot_width=400, plot_height=400)\n",
    "p.outline_line_width = 2\n",
    "p.outline_line_alpha = 90\n",
    "p.outline_line_color = '#9ACD32'\n",
    "x=[1,7,4,3,9]\n",
    "y=[6,9,1,4,3]\n",
    "p.circle(x, y, size=6 , color='#F08080')\n",
    "\n",
    "show(p)\n"
   ]
  },
  {
   "cell_type": "code",
   "execution_count": 18,
   "metadata": {},
   "outputs": [
    {
     "data": {
      "text/html": [
       "\n",
       "\n",
       "\n",
       "\n",
       "\n",
       "\n",
       "  <div class=\"bk-root\" id=\"b148ec79-cc63-4aa2-ac21-fd6f7a8a7d0f\" data-root-id=\"2226\"></div>\n"
      ]
     },
     "metadata": {},
     "output_type": "display_data"
    },
    {
     "data": {
      "application/javascript": [
       "(function(root) {\n",
       "  function embed_document(root) {\n",
       "    \n",
       "  var docs_json = {\"c0010b31-791e-420c-a8b0-a6a99dfce0a2\":{\"roots\":{\"references\":[{\"attributes\":{\"below\":[{\"id\":\"2235\",\"type\":\"LinearAxis\"}],\"center\":[{\"id\":\"2239\",\"type\":\"Grid\"},{\"id\":\"2244\",\"type\":\"Grid\"}],\"left\":[{\"id\":\"2240\",\"type\":\"LinearAxis\"}],\"outline_line_alpha\":{\"value\":90},\"outline_line_color\":{\"value\":\"#9ACD32\"},\"outline_line_width\":{\"value\":2},\"plot_height\":400,\"plot_width\":400,\"renderers\":[{\"id\":\"2261\",\"type\":\"GlyphRenderer\"},{\"id\":\"2410\",\"type\":\"GlyphRenderer\"}],\"title\":{\"id\":\"2344\",\"type\":\"Title\"},\"toolbar\":{\"id\":\"2251\",\"type\":\"Toolbar\"},\"x_range\":{\"id\":\"2227\",\"type\":\"DataRange1d\"},\"x_scale\":{\"id\":\"2231\",\"type\":\"LinearScale\"},\"y_range\":{\"id\":\"2229\",\"type\":\"DataRange1d\"},\"y_scale\":{\"id\":\"2233\",\"type\":\"LinearScale\"}},\"id\":\"2226\",\"subtype\":\"Figure\",\"type\":\"Plot\"},{\"attributes\":{},\"id\":\"2351\",\"type\":\"UnionRenderers\"},{\"attributes\":{\"text\":\"\"},\"id\":\"2344\",\"type\":\"Title\"},{\"attributes\":{\"callback\":null},\"id\":\"2227\",\"type\":\"DataRange1d\"},{\"attributes\":{\"callback\":null},\"id\":\"2229\",\"type\":\"DataRange1d\"},{\"attributes\":{},\"id\":\"2231\",\"type\":\"LinearScale\"},{\"attributes\":{\"bottom_units\":\"screen\",\"fill_alpha\":{\"value\":0.5},\"fill_color\":{\"value\":\"lightgrey\"},\"left_units\":\"screen\",\"level\":\"overlay\",\"line_alpha\":{\"value\":1.0},\"line_color\":{\"value\":\"black\"},\"line_dash\":[4,4],\"line_width\":{\"value\":2},\"render_mode\":\"css\",\"right_units\":\"screen\",\"top_units\":\"screen\"},\"id\":\"2350\",\"type\":\"BoxAnnotation\"},{\"attributes\":{},\"id\":\"2236\",\"type\":\"BasicTicker\"},{\"attributes\":{\"formatter\":{\"id\":\"2347\",\"type\":\"BasicTickFormatter\"},\"ticker\":{\"id\":\"2236\",\"type\":\"BasicTicker\"}},\"id\":\"2235\",\"type\":\"LinearAxis\"},{\"attributes\":{},\"id\":\"2233\",\"type\":\"LinearScale\"},{\"attributes\":{\"source\":{\"id\":\"2407\",\"type\":\"ColumnDataSource\"}},\"id\":\"2411\",\"type\":\"CDSView\"},{\"attributes\":{\"ticker\":{\"id\":\"2236\",\"type\":\"BasicTicker\"}},\"id\":\"2239\",\"type\":\"Grid\"},{\"attributes\":{\"callback\":null,\"data\":{\"x\":[1,2,3,4,5],\"y\":[2,5,8,2,7]},\"selected\":{\"id\":\"2503\",\"type\":\"Selection\"},\"selection_policy\":{\"id\":\"2502\",\"type\":\"UnionRenderers\"}},\"id\":\"2407\",\"type\":\"ColumnDataSource\"},{\"attributes\":{},\"id\":\"2241\",\"type\":\"BasicTicker\"},{\"attributes\":{},\"id\":\"2503\",\"type\":\"Selection\"},{\"attributes\":{},\"id\":\"2349\",\"type\":\"BasicTickFormatter\"},{\"attributes\":{\"fill_color\":{\"value\":\"#F08080\"},\"line_color\":{\"value\":\"#F08080\"},\"size\":{\"units\":\"screen\",\"value\":6},\"x\":{\"field\":\"x\"},\"y\":{\"field\":\"y\"}},\"id\":\"2259\",\"type\":\"Circle\"},{\"attributes\":{\"active_drag\":\"auto\",\"active_inspect\":\"auto\",\"active_multi\":null,\"active_scroll\":\"auto\",\"active_tap\":\"auto\",\"tools\":[{\"id\":\"2245\",\"type\":\"PanTool\"},{\"id\":\"2246\",\"type\":\"WheelZoomTool\"},{\"id\":\"2247\",\"type\":\"BoxZoomTool\"},{\"id\":\"2248\",\"type\":\"SaveTool\"},{\"id\":\"2249\",\"type\":\"ResetTool\"},{\"id\":\"2250\",\"type\":\"HelpTool\"}]},\"id\":\"2251\",\"type\":\"Toolbar\"},{\"attributes\":{\"source\":{\"id\":\"2258\",\"type\":\"ColumnDataSource\"}},\"id\":\"2262\",\"type\":\"CDSView\"},{\"attributes\":{\"data_source\":{\"id\":\"2258\",\"type\":\"ColumnDataSource\"},\"glyph\":{\"id\":\"2259\",\"type\":\"Circle\"},\"hover_glyph\":null,\"muted_glyph\":null,\"nonselection_glyph\":{\"id\":\"2260\",\"type\":\"Circle\"},\"selection_glyph\":null,\"view\":{\"id\":\"2262\",\"type\":\"CDSView\"}},\"id\":\"2261\",\"type\":\"GlyphRenderer\"},{\"attributes\":{},\"id\":\"2352\",\"type\":\"Selection\"},{\"attributes\":{\"formatter\":{\"id\":\"2349\",\"type\":\"BasicTickFormatter\"},\"ticker\":{\"id\":\"2241\",\"type\":\"BasicTicker\"}},\"id\":\"2240\",\"type\":\"LinearAxis\"},{\"attributes\":{\"fill_alpha\":{\"value\":0.2},\"fill_color\":{\"value\":\"#1f77b4\"},\"line_color\":{\"value\":\"firebrick\"},\"line_dash\":[5,1],\"line_width\":{\"value\":2},\"size\":{\"units\":\"screen\",\"value\":50},\"x\":{\"field\":\"x\"},\"y\":{\"field\":\"y\"}},\"id\":\"2408\",\"type\":\"Circle\"},{\"attributes\":{\"fill_alpha\":{\"value\":0.1},\"fill_color\":{\"value\":\"#1f77b4\"},\"line_alpha\":{\"value\":0.1},\"line_color\":{\"value\":\"#1f77b4\"},\"size\":{\"units\":\"screen\",\"value\":6},\"x\":{\"field\":\"x\"},\"y\":{\"field\":\"y\"}},\"id\":\"2260\",\"type\":\"Circle\"},{\"attributes\":{\"dimension\":1,\"ticker\":{\"id\":\"2241\",\"type\":\"BasicTicker\"}},\"id\":\"2244\",\"type\":\"Grid\"},{\"attributes\":{\"fill_alpha\":{\"value\":0.1},\"fill_color\":{\"value\":\"#1f77b4\"},\"line_alpha\":{\"value\":0.1},\"line_color\":{\"value\":\"#1f77b4\"},\"x\":{\"field\":\"x\"},\"y\":{\"field\":\"y\"}},\"id\":\"2409\",\"type\":\"Circle\"},{\"attributes\":{},\"id\":\"2248\",\"type\":\"SaveTool\"},{\"attributes\":{},\"id\":\"2502\",\"type\":\"UnionRenderers\"},{\"attributes\":{\"overlay\":{\"id\":\"2350\",\"type\":\"BoxAnnotation\"}},\"id\":\"2247\",\"type\":\"BoxZoomTool\"},{\"attributes\":{\"data_source\":{\"id\":\"2407\",\"type\":\"ColumnDataSource\"},\"glyph\":{\"id\":\"2408\",\"type\":\"Circle\"},\"hover_glyph\":null,\"muted_glyph\":null,\"nonselection_glyph\":{\"id\":\"2409\",\"type\":\"Circle\"},\"selection_glyph\":null,\"view\":{\"id\":\"2411\",\"type\":\"CDSView\"}},\"id\":\"2410\",\"type\":\"GlyphRenderer\"},{\"attributes\":{},\"id\":\"2246\",\"type\":\"WheelZoomTool\"},{\"attributes\":{},\"id\":\"2245\",\"type\":\"PanTool\"},{\"attributes\":{\"callback\":null,\"data\":{\"x\":[1,7,4,3,9],\"y\":[6,9,1,4,3]},\"selected\":{\"id\":\"2352\",\"type\":\"Selection\"},\"selection_policy\":{\"id\":\"2351\",\"type\":\"UnionRenderers\"}},\"id\":\"2258\",\"type\":\"ColumnDataSource\"},{\"attributes\":{},\"id\":\"2249\",\"type\":\"ResetTool\"},{\"attributes\":{},\"id\":\"2250\",\"type\":\"HelpTool\"},{\"attributes\":{},\"id\":\"2347\",\"type\":\"BasicTickFormatter\"}],\"root_ids\":[\"2226\"]},\"title\":\"Bokeh Application\",\"version\":\"1.3.4\"}};\n",
       "  var render_items = [{\"docid\":\"c0010b31-791e-420c-a8b0-a6a99dfce0a2\",\"roots\":{\"2226\":\"b148ec79-cc63-4aa2-ac21-fd6f7a8a7d0f\"}}];\n",
       "  root.Bokeh.embed.embed_items_notebook(docs_json, render_items);\n",
       "\n",
       "  }\n",
       "  if (root.Bokeh !== undefined) {\n",
       "    embed_document(root);\n",
       "  } else {\n",
       "    var attempts = 0;\n",
       "    var timer = setInterval(function(root) {\n",
       "      if (root.Bokeh !== undefined) {\n",
       "        embed_document(root);\n",
       "        clearInterval(timer);\n",
       "      }\n",
       "      attempts++;\n",
       "      if (attempts > 100) {\n",
       "        console.log(\"Bokeh: ERROR: Unable to run BokehJS code because BokehJS library is missing\");\n",
       "        clearInterval(timer);\n",
       "      }\n",
       "    }, 10, root)\n",
       "  }\n",
       "})(window);"
      ],
      "application/vnd.bokehjs_exec.v0+json": ""
     },
     "metadata": {
      "application/vnd.bokehjs_exec.v0+json": {
       "id": "2226"
      }
     },
     "output_type": "display_data"
    }
   ],
   "source": [
    "\n",
    "# keep a reference to the returned GlyphRenderer\n",
    "r = p.circle([1,2,3,4,5], [2,5,8,2,7])\n",
    "\n",
    "r.glyph.size = 50\n",
    "r.glyph.fill_alpha = 0.2\n",
    "r.glyph.line_color = \"firebrick\"\n",
    "r.glyph.line_dash = [5, 1]\n",
    "r.glyph.line_width = 2\n",
    "\n",
    "show(p)"
   ]
  },
  {
   "cell_type": "code",
   "execution_count": 19,
   "metadata": {},
   "outputs": [
    {
     "data": {
      "text/html": [
       "\n",
       "\n",
       "\n",
       "\n",
       "\n",
       "\n",
       "  <div class=\"bk-root\" id=\"6cf0f79e-5a3f-4cc3-93be-2423f950112d\" data-root-id=\"2570\"></div>\n"
      ]
     },
     "metadata": {},
     "output_type": "display_data"
    },
    {
     "data": {
      "application/javascript": [
       "(function(root) {\n",
       "  function embed_document(root) {\n",
       "    \n",
       "  var docs_json = {\"9c9aae43-3fdd-4a03-be24-cfabc9bb8962\":{\"roots\":{\"references\":[{\"attributes\":{\"below\":[{\"id\":\"2581\",\"type\":\"LinearAxis\"}],\"center\":[{\"id\":\"2585\",\"type\":\"Grid\"},{\"id\":\"2590\",\"type\":\"Grid\"}],\"left\":[{\"id\":\"2586\",\"type\":\"LinearAxis\"}],\"plot_height\":400,\"plot_width\":400,\"renderers\":[{\"id\":\"2598\",\"type\":\"GlyphRenderer\"}],\"title\":{\"id\":\"2571\",\"type\":\"Title\"},\"toolbar\":{\"id\":\"2592\",\"type\":\"Toolbar\"},\"x_range\":{\"id\":\"2573\",\"type\":\"DataRange1d\"},\"x_scale\":{\"id\":\"2577\",\"type\":\"LinearScale\"},\"y_range\":{\"id\":\"2575\",\"type\":\"DataRange1d\"},\"y_scale\":{\"id\":\"2579\",\"type\":\"LinearScale\"}},\"id\":\"2570\",\"subtype\":\"Figure\",\"type\":\"Plot\"},{\"attributes\":{\"active_drag\":\"auto\",\"active_inspect\":\"auto\",\"active_multi\":null,\"active_scroll\":\"auto\",\"active_tap\":\"auto\",\"tools\":[{\"id\":\"2591\",\"type\":\"TapTool\"}]},\"id\":\"2592\",\"type\":\"Toolbar\"},{\"attributes\":{\"callback\":null},\"id\":\"2575\",\"type\":\"DataRange1d\"},{\"attributes\":{\"callback\":null,\"data\":{\"x\":[1,2,3,4,5],\"y\":[2,5,8,2,7]},\"selected\":{\"id\":\"2698\",\"type\":\"Selection\"},\"selection_policy\":{\"id\":\"2697\",\"type\":\"UnionRenderers\"}},\"id\":\"2594\",\"type\":\"ColumnDataSource\"},{\"attributes\":{\"ticker\":{\"id\":\"2582\",\"type\":\"BasicTicker\"}},\"id\":\"2585\",\"type\":\"Grid\"},{\"attributes\":{\"fill_color\":{\"value\":\"firebrick\"},\"line_color\":{\"value\":\"firebrick\"},\"size\":{\"units\":\"screen\",\"value\":50},\"x\":{\"field\":\"x\"},\"y\":{\"field\":\"y\"}},\"id\":\"2597\",\"type\":\"Circle\"},{\"attributes\":{\"dimension\":1,\"ticker\":{\"id\":\"2587\",\"type\":\"BasicTicker\"}},\"id\":\"2590\",\"type\":\"Grid\"},{\"attributes\":{},\"id\":\"2696\",\"type\":\"BasicTickFormatter\"},{\"attributes\":{\"source\":{\"id\":\"2594\",\"type\":\"ColumnDataSource\"}},\"id\":\"2599\",\"type\":\"CDSView\"},{\"attributes\":{},\"id\":\"2582\",\"type\":\"BasicTicker\"},{\"attributes\":{\"data_source\":{\"id\":\"2594\",\"type\":\"ColumnDataSource\"},\"glyph\":{\"id\":\"2595\",\"type\":\"Circle\"},\"hover_glyph\":null,\"muted_glyph\":null,\"nonselection_glyph\":{\"id\":\"2596\",\"type\":\"Circle\"},\"selection_glyph\":{\"id\":\"2597\",\"type\":\"Circle\"},\"view\":{\"id\":\"2599\",\"type\":\"CDSView\"}},\"id\":\"2598\",\"type\":\"GlyphRenderer\"},{\"attributes\":{\"callback\":null},\"id\":\"2573\",\"type\":\"DataRange1d\"},{\"attributes\":{},\"id\":\"2698\",\"type\":\"Selection\"},{\"attributes\":{},\"id\":\"2579\",\"type\":\"LinearScale\"},{\"attributes\":{\"fill_color\":{\"value\":\"#1f77b4\"},\"line_color\":{\"value\":\"#1f77b4\"},\"size\":{\"units\":\"screen\",\"value\":50},\"x\":{\"field\":\"x\"},\"y\":{\"field\":\"y\"}},\"id\":\"2595\",\"type\":\"Circle\"},{\"attributes\":{},\"id\":\"2577\",\"type\":\"LinearScale\"},{\"attributes\":{\"fill_alpha\":{\"value\":0.2},\"fill_color\":{\"value\":\"grey\"},\"line_color\":{\"value\":\"firebrick\"},\"size\":{\"units\":\"screen\",\"value\":50},\"x\":{\"field\":\"x\"},\"y\":{\"field\":\"y\"}},\"id\":\"2596\",\"type\":\"Circle\"},{\"attributes\":{\"formatter\":{\"id\":\"2696\",\"type\":\"BasicTickFormatter\"},\"ticker\":{\"id\":\"2587\",\"type\":\"BasicTicker\"}},\"id\":\"2586\",\"type\":\"LinearAxis\"},{\"attributes\":{},\"id\":\"2587\",\"type\":\"BasicTicker\"},{\"attributes\":{\"callback\":null},\"id\":\"2591\",\"type\":\"TapTool\"},{\"attributes\":{\"text\":\"Select a circle\"},\"id\":\"2571\",\"type\":\"Title\"},{\"attributes\":{\"formatter\":{\"id\":\"2694\",\"type\":\"BasicTickFormatter\"},\"ticker\":{\"id\":\"2582\",\"type\":\"BasicTicker\"}},\"id\":\"2581\",\"type\":\"LinearAxis\"},{\"attributes\":{},\"id\":\"2697\",\"type\":\"UnionRenderers\"},{\"attributes\":{},\"id\":\"2694\",\"type\":\"BasicTickFormatter\"}],\"root_ids\":[\"2570\"]},\"title\":\"Bokeh Application\",\"version\":\"1.3.4\"}};\n",
       "  var render_items = [{\"docid\":\"9c9aae43-3fdd-4a03-be24-cfabc9bb8962\",\"roots\":{\"2570\":\"6cf0f79e-5a3f-4cc3-93be-2423f950112d\"}}];\n",
       "  root.Bokeh.embed.embed_items_notebook(docs_json, render_items);\n",
       "\n",
       "  }\n",
       "  if (root.Bokeh !== undefined) {\n",
       "    embed_document(root);\n",
       "  } else {\n",
       "    var attempts = 0;\n",
       "    var timer = setInterval(function(root) {\n",
       "      if (root.Bokeh !== undefined) {\n",
       "        embed_document(root);\n",
       "        clearInterval(timer);\n",
       "      }\n",
       "      attempts++;\n",
       "      if (attempts > 100) {\n",
       "        console.log(\"Bokeh: ERROR: Unable to run BokehJS code because BokehJS library is missing\");\n",
       "        clearInterval(timer);\n",
       "      }\n",
       "    }, 10, root)\n",
       "  }\n",
       "})(window);"
      ],
      "application/vnd.bokehjs_exec.v0+json": ""
     },
     "metadata": {
      "application/vnd.bokehjs_exec.v0+json": {
       "id": "2570"
      }
     },
     "output_type": "display_data"
    }
   ],
   "source": [
    "\n",
    "p = figure(plot_width=400, plot_height=400, tools=\"tap\", title=\"Select a circle\")\n",
    "renderer = p.circle([1, 2, 3, 4, 5], [2, 5, 8, 2, 7], size=50,\n",
    "\n",
    "                    # set visual properties for selected glyphs\n",
    "                    selection_color=\"firebrick\",\n",
    "\n",
    "                    # set visual properties for non-selected glyphs\n",
    "                    nonselection_fill_alpha=0.2,\n",
    "                    nonselection_fill_color=\"grey\",\n",
    "                    nonselection_line_color=\"firebrick\",\n",
    "                    nonselection_line_alpha=1.0)\n",
    "\n",
    "show(p)"
   ]
  },
  {
   "cell_type": "code",
   "execution_count": 20,
   "metadata": {},
   "outputs": [
    {
     "data": {
      "text/html": [
       "\n",
       "\n",
       "\n",
       "\n",
       "\n",
       "\n",
       "  <div class=\"bk-root\" id=\"c7f03404-68b9-4c06-b315-47095e620e09\" data-root-id=\"2741\"></div>\n"
      ]
     },
     "metadata": {},
     "output_type": "display_data"
    },
    {
     "data": {
      "application/javascript": [
       "(function(root) {\n",
       "  function embed_document(root) {\n",
       "    \n",
       "  var docs_json = {\"123f7875-6de3-462c-8977-766101f58930\":{\"roots\":{\"references\":[{\"attributes\":{\"below\":[{\"id\":\"2752\",\"type\":\"DatetimeAxis\"}],\"center\":[{\"id\":\"2756\",\"type\":\"Grid\"},{\"id\":\"2761\",\"type\":\"Grid\"}],\"left\":[{\"id\":\"2757\",\"type\":\"LinearAxis\"}],\"plot_height\":300,\"renderers\":[{\"id\":\"2778\",\"type\":\"GlyphRenderer\"},{\"id\":\"2784\",\"type\":\"GlyphRenderer\"}],\"title\":{\"id\":\"2742\",\"type\":\"Title\"},\"toolbar\":{\"id\":\"2768\",\"type\":\"Toolbar\"},\"x_range\":{\"id\":\"2744\",\"type\":\"DataRange1d\"},\"x_scale\":{\"id\":\"2748\",\"type\":\"LinearScale\"},\"y_range\":{\"id\":\"2746\",\"type\":\"DataRange1d\"},\"y_scale\":{\"id\":\"2750\",\"type\":\"LinearScale\"}},\"id\":\"2741\",\"subtype\":\"Figure\",\"type\":\"Plot\"},{\"attributes\":{\"callback\":null},\"id\":\"2746\",\"type\":\"DataRange1d\"},{\"attributes\":{\"callback\":null},\"id\":\"2744\",\"type\":\"DataRange1d\"},{\"attributes\":{},\"id\":\"2889\",\"type\":\"DatetimeTickFormatter\"},{\"attributes\":{},\"id\":\"2748\",\"type\":\"LinearScale\"},{\"attributes\":{\"mantissas\":[1,2,5],\"max_interval\":500.0,\"num_minor_ticks\":0},\"id\":\"2892\",\"type\":\"AdaptiveTicker\"},{\"attributes\":{},\"id\":\"2891\",\"type\":\"BasicTickFormatter\"},{\"attributes\":{},\"id\":\"2750\",\"type\":\"LinearScale\"},{\"attributes\":{\"formatter\":{\"id\":\"2889\",\"type\":\"DatetimeTickFormatter\"},\"ticker\":{\"id\":\"2753\",\"type\":\"DatetimeTicker\"}},\"id\":\"2752\",\"type\":\"DatetimeAxis\"},{\"attributes\":{\"base\":24,\"mantissas\":[1,2,4,6,8,12],\"max_interval\":43200000.0,\"min_interval\":3600000.0,\"num_minor_ticks\":0},\"id\":\"2894\",\"type\":\"AdaptiveTicker\"},{\"attributes\":{\"base\":60,\"mantissas\":[1,2,5,10,15,20,30],\"max_interval\":1800000.0,\"min_interval\":1000.0,\"num_minor_ticks\":0},\"id\":\"2893\",\"type\":\"AdaptiveTicker\"},{\"attributes\":{\"text\":\"Hover over points\"},\"id\":\"2742\",\"type\":\"Title\"},{\"attributes\":{\"dimension\":1,\"ticker\":{\"id\":\"2758\",\"type\":\"BasicTicker\"}},\"id\":\"2761\",\"type\":\"Grid\"},{\"attributes\":{\"num_minor_ticks\":5,\"tickers\":[{\"id\":\"2892\",\"type\":\"AdaptiveTicker\"},{\"id\":\"2893\",\"type\":\"AdaptiveTicker\"},{\"id\":\"2894\",\"type\":\"AdaptiveTicker\"},{\"id\":\"2895\",\"type\":\"DaysTicker\"},{\"id\":\"2896\",\"type\":\"DaysTicker\"},{\"id\":\"2897\",\"type\":\"DaysTicker\"},{\"id\":\"2898\",\"type\":\"DaysTicker\"},{\"id\":\"2899\",\"type\":\"MonthsTicker\"},{\"id\":\"2900\",\"type\":\"MonthsTicker\"},{\"id\":\"2901\",\"type\":\"MonthsTicker\"},{\"id\":\"2902\",\"type\":\"MonthsTicker\"},{\"id\":\"2903\",\"type\":\"YearsTicker\"}]},\"id\":\"2753\",\"type\":\"DatetimeTicker\"},{\"attributes\":{\"days\":[1,2,3,4,5,6,7,8,9,10,11,12,13,14,15,16,17,18,19,20,21,22,23,24,25,26,27,28,29,30,31]},\"id\":\"2895\",\"type\":\"DaysTicker\"},{\"attributes\":{\"ticker\":{\"id\":\"2753\",\"type\":\"DatetimeTicker\"}},\"id\":\"2756\",\"type\":\"Grid\"},{\"attributes\":{\"days\":[1,4,7,10,13,16,19,22,25,28]},\"id\":\"2896\",\"type\":\"DaysTicker\"},{\"attributes\":{},\"id\":\"2758\",\"type\":\"BasicTicker\"},{\"attributes\":{\"formatter\":{\"id\":\"2891\",\"type\":\"BasicTickFormatter\"},\"ticker\":{\"id\":\"2758\",\"type\":\"BasicTicker\"}},\"id\":\"2757\",\"type\":\"LinearAxis\"},{\"attributes\":{\"days\":[1,8,15,22]},\"id\":\"2897\",\"type\":\"DaysTicker\"},{\"attributes\":{\"days\":[1,15]},\"id\":\"2898\",\"type\":\"DaysTicker\"},{\"attributes\":{\"active_drag\":\"auto\",\"active_inspect\":\"auto\",\"active_multi\":null,\"active_scroll\":\"auto\",\"active_tap\":\"auto\",\"tools\":[{\"id\":\"2762\",\"type\":\"PanTool\"},{\"id\":\"2763\",\"type\":\"WheelZoomTool\"},{\"id\":\"2764\",\"type\":\"BoxZoomTool\"},{\"id\":\"2765\",\"type\":\"SaveTool\"},{\"id\":\"2766\",\"type\":\"ResetTool\"},{\"id\":\"2767\",\"type\":\"HelpTool\"},{\"id\":\"2786\",\"type\":\"HoverTool\"}]},\"id\":\"2768\",\"type\":\"Toolbar\"},{\"attributes\":{\"months\":[0,1,2,3,4,5,6,7,8,9,10,11]},\"id\":\"2899\",\"type\":\"MonthsTicker\"},{\"attributes\":{\"callback\":null,\"data\":{\"x\":{\"__ndarray__\":\"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\",\"dtype\":\"float64\",\"shape\":[288]},\"y\":[143,147,150,152,152,152,154,155,142,140,138,134,131,130,128,127,126,126,126,126,127,129,131,132,134,136,136,136,136,135,134,132,130,130,130,129,128,127,125,124,123,123,122,121,120,118,115,112,111,111,110,110,109,108,107,107,107,108,107,105,105,105,105,104,103,102,99,97,96,94,94,93,93,92,91,92,94,95,96,97,99,102,104,112,112,112,111,110,107,104,105,105,103,99,96,94,95,102,114,128,144,160,173,185,196,205,209,214,219,226,234,241,248,255,260,265,268,270,272,271,271,268,265,261,256,253,250,246,244,241,237,233,229,225,222,204,200,197,193,190,186,182,179,175,171,168,164,158,154,151,148,145,141,133,139,152,173,196,217,233,244,249,250,253,256,260,263,265,265,264,260,254,246,234,217,200,188,181,175,169,164,159,154,147,138,132,129,127,123,117,111,106,104,103,100,94,88,83,78,75,73,71,69,68,67,67,68,70,71,71,70,69,68,67,67,67,66,67,69,71,74,76,78,80,80,80,80,80,80,82,84,87,90,92,87,87,86,86,86,86,87,87,87,85,83,82,83,87,95,107,118,130,141,149,172,179,187,201,214,221,225,230,232,230,223,216,208,199,191,185,181,177,176,177,176,173,171,169,163,154,152,153,154,154,153,151,150,150]},\"selected\":{\"id\":\"2906\",\"type\":\"Selection\"},\"selection_policy\":{\"id\":\"2905\",\"type\":\"UnionRenderers\"}},\"id\":\"2775\",\"type\":\"ColumnDataSource\"},{\"attributes\":{\"months\":[0,2,4,6,8,10]},\"id\":\"2900\",\"type\":\"MonthsTicker\"},{\"attributes\":{\"data_source\":{\"id\":\"2775\",\"type\":\"ColumnDataSource\"},\"glyph\":{\"id\":\"2776\",\"type\":\"Line\"},\"hover_glyph\":null,\"muted_glyph\":null,\"nonselection_glyph\":{\"id\":\"2777\",\"type\":\"Line\"},\"selection_glyph\":null,\"view\":{\"id\":\"2779\",\"type\":\"CDSView\"}},\"id\":\"2778\",\"type\":\"GlyphRenderer\"},{\"attributes\":{},\"id\":\"2762\",\"type\":\"PanTool\"},{\"attributes\":{\"months\":[0,4,8]},\"id\":\"2901\",\"type\":\"MonthsTicker\"},{\"attributes\":{},\"id\":\"2763\",\"type\":\"WheelZoomTool\"},{\"attributes\":{\"months\":[0,6]},\"id\":\"2902\",\"type\":\"MonthsTicker\"},{\"attributes\":{},\"id\":\"2905\",\"type\":\"UnionRenderers\"},{\"attributes\":{\"overlay\":{\"id\":\"2904\",\"type\":\"BoxAnnotation\"}},\"id\":\"2764\",\"type\":\"BoxZoomTool\"},{\"attributes\":{},\"id\":\"2903\",\"type\":\"YearsTicker\"},{\"attributes\":{},\"id\":\"2765\",\"type\":\"SaveTool\"},{\"attributes\":{\"bottom_units\":\"screen\",\"fill_alpha\":{\"value\":0.5},\"fill_color\":{\"value\":\"lightgrey\"},\"left_units\":\"screen\",\"level\":\"overlay\",\"line_alpha\":{\"value\":1.0},\"line_color\":{\"value\":\"black\"},\"line_dash\":[4,4],\"line_width\":{\"value\":2},\"render_mode\":\"css\",\"right_units\":\"screen\",\"top_units\":\"screen\"},\"id\":\"2904\",\"type\":\"BoxAnnotation\"},{\"attributes\":{},\"id\":\"2906\",\"type\":\"Selection\"},{\"attributes\":{},\"id\":\"2766\",\"type\":\"ResetTool\"},{\"attributes\":{},\"id\":\"2907\",\"type\":\"UnionRenderers\"},{\"attributes\":{\"callback\":null,\"mode\":\"hline\",\"renderers\":[{\"id\":\"2784\",\"type\":\"GlyphRenderer\"}],\"tooltips\":null},\"id\":\"2786\",\"type\":\"HoverTool\"},{\"attributes\":{\"line_color\":\"gray\",\"line_dash\":[4,4],\"x\":{\"field\":\"x\"},\"y\":{\"field\":\"y\"}},\"id\":\"2776\",\"type\":\"Line\"},{\"attributes\":{},\"id\":\"2767\",\"type\":\"HelpTool\"},{\"attributes\":{},\"id\":\"2908\",\"type\":\"Selection\"},{\"attributes\":{\"line_alpha\":0.1,\"line_color\":\"#1f77b4\",\"line_dash\":[4,4],\"x\":{\"field\":\"x\"},\"y\":{\"field\":\"y\"}},\"id\":\"2777\",\"type\":\"Line\"},{\"attributes\":{\"source\":{\"id\":\"2775\",\"type\":\"ColumnDataSource\"}},\"id\":\"2779\",\"type\":\"CDSView\"},{\"attributes\":{\"callback\":null,\"data\":{\"x\":{\"__ndarray__\":\"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\",\"dtype\":\"float64\",\"shape\":[288]},\"y\":[143,147,150,152,152,152,154,155,142,140,138,134,131,130,128,127,126,126,126,126,127,129,131,132,134,136,136,136,136,135,134,132,130,130,130,129,128,127,125,124,123,123,122,121,120,118,115,112,111,111,110,110,109,108,107,107,107,108,107,105,105,105,105,104,103,102,99,97,96,94,94,93,93,92,91,92,94,95,96,97,99,102,104,112,112,112,111,110,107,104,105,105,103,99,96,94,95,102,114,128,144,160,173,185,196,205,209,214,219,226,234,241,248,255,260,265,268,270,272,271,271,268,265,261,256,253,250,246,244,241,237,233,229,225,222,204,200,197,193,190,186,182,179,175,171,168,164,158,154,151,148,145,141,133,139,152,173,196,217,233,244,249,250,253,256,260,263,265,265,264,260,254,246,234,217,200,188,181,175,169,164,159,154,147,138,132,129,127,123,117,111,106,104,103,100,94,88,83,78,75,73,71,69,68,67,67,68,70,71,71,70,69,68,67,67,67,66,67,69,71,74,76,78,80,80,80,80,80,80,82,84,87,90,92,87,87,86,86,86,86,87,87,87,85,83,82,83,87,95,107,118,130,141,149,172,179,187,201,214,221,225,230,232,230,223,216,208,199,191,185,181,177,176,177,176,173,171,169,163,154,152,153,154,154,153,151,150,150]},\"selected\":{\"id\":\"2908\",\"type\":\"Selection\"},\"selection_policy\":{\"id\":\"2907\",\"type\":\"UnionRenderers\"}},\"id\":\"2780\",\"type\":\"ColumnDataSource\"},{\"attributes\":{\"fill_alpha\":{\"value\":0.1},\"fill_color\":{\"value\":\"#1f77b4\"},\"line_alpha\":{\"value\":0.1},\"line_color\":{\"value\":\"#1f77b4\"},\"size\":{\"units\":\"screen\",\"value\":20},\"x\":{\"field\":\"x\"},\"y\":{\"field\":\"y\"}},\"id\":\"2782\",\"type\":\"Circle\"},{\"attributes\":{\"fill_alpha\":{\"value\":0.3},\"fill_color\":{\"value\":\"firebrick\"},\"line_alpha\":{\"value\":0.3},\"line_color\":{\"value\":\"white\"},\"size\":{\"units\":\"screen\",\"value\":20},\"x\":{\"field\":\"x\"},\"y\":{\"field\":\"y\"}},\"id\":\"2783\",\"type\":\"Circle\"},{\"attributes\":{\"fill_alpha\":{\"value\":0.05},\"fill_color\":{\"value\":\"grey\"},\"line_color\":{\"value\":null},\"size\":{\"units\":\"screen\",\"value\":20},\"x\":{\"field\":\"x\"},\"y\":{\"field\":\"y\"}},\"id\":\"2781\",\"type\":\"Circle\"},{\"attributes\":{\"data_source\":{\"id\":\"2780\",\"type\":\"ColumnDataSource\"},\"glyph\":{\"id\":\"2781\",\"type\":\"Circle\"},\"hover_glyph\":{\"id\":\"2783\",\"type\":\"Circle\"},\"muted_glyph\":null,\"nonselection_glyph\":{\"id\":\"2782\",\"type\":\"Circle\"},\"selection_glyph\":null,\"view\":{\"id\":\"2785\",\"type\":\"CDSView\"}},\"id\":\"2784\",\"type\":\"GlyphRenderer\"},{\"attributes\":{\"source\":{\"id\":\"2780\",\"type\":\"ColumnDataSource\"}},\"id\":\"2785\",\"type\":\"CDSView\"}],\"root_ids\":[\"2741\"]},\"title\":\"Bokeh Application\",\"version\":\"1.3.4\"}};\n",
       "  var render_items = [{\"docid\":\"123f7875-6de3-462c-8977-766101f58930\",\"roots\":{\"2741\":\"c7f03404-68b9-4c06-b315-47095e620e09\"}}];\n",
       "  root.Bokeh.embed.embed_items_notebook(docs_json, render_items);\n",
       "\n",
       "  }\n",
       "  if (root.Bokeh !== undefined) {\n",
       "    embed_document(root);\n",
       "  } else {\n",
       "    var attempts = 0;\n",
       "    var timer = setInterval(function(root) {\n",
       "      if (root.Bokeh !== undefined) {\n",
       "        embed_document(root);\n",
       "        clearInterval(timer);\n",
       "      }\n",
       "      attempts++;\n",
       "      if (attempts > 100) {\n",
       "        console.log(\"Bokeh: ERROR: Unable to run BokehJS code because BokehJS library is missing\");\n",
       "        clearInterval(timer);\n",
       "      }\n",
       "    }, 10, root)\n",
       "  }\n",
       "})(window);"
      ],
      "application/vnd.bokehjs_exec.v0+json": ""
     },
     "metadata": {
      "application/vnd.bokehjs_exec.v0+json": {
       "id": "2741"
      }
     },
     "output_type": "display_data"
    }
   ],
   "source": [
    "from bokeh.models.tools import HoverTool\n",
    "from bokeh.sampledata.glucose import data\n",
    "\n",
    "subset = data.loc['2010-10-06']\n",
    "\n",
    "x, y = subset.index.to_series(), subset['glucose']\n",
    "\n",
    "# Basic plot setup\n",
    "p = figure(width=600, height=300, x_axis_type=\"datetime\", title='Hover over points')\n",
    "\n",
    "p.line(x, y, line_dash=\"4 4\", line_width=1, color='gray')\n",
    "\n",
    "cr = p.circle(x, y, size=20,\n",
    "              fill_color=\"grey\", hover_fill_color=\"firebrick\",\n",
    "              fill_alpha=0.05, hover_alpha=0.3,\n",
    "              line_color=None, hover_line_color=\"white\")\n",
    "\n",
    "p.add_tools(HoverTool(tooltips=None, renderers=[cr], mode='hline'))\n",
    "\n",
    "show(p)"
   ]
  },
  {
   "cell_type": "code",
   "execution_count": 36,
   "metadata": {},
   "outputs": [
    {
     "data": {
      "text/html": [
       "\n",
       "\n",
       "\n",
       "\n",
       "\n",
       "\n",
       "  <div class=\"bk-root\" id=\"4e466f68-5a8a-4a3b-9845-932a47161cbc\" data-root-id=\"9021\"></div>\n"
      ]
     },
     "metadata": {},
     "output_type": "display_data"
    },
    {
     "data": {
      "application/javascript": [
       "(function(root) {\n",
       "  function embed_document(root) {\n",
       "    \n",
       "  var docs_json = {\"6fbcdc72-36cc-4f55-9be8-df7bdd55e5f7\":{\"roots\":{\"references\":[{\"attributes\":{\"below\":[{\"id\":\"9032\",\"type\":\"DatetimeAxis\"}],\"center\":[{\"id\":\"9036\",\"type\":\"Grid\"},{\"id\":\"9041\",\"type\":\"Grid\"}],\"left\":[{\"id\":\"9037\",\"type\":\"LinearAxis\"}],\"plot_height\":300,\"renderers\":[{\"id\":\"9058\",\"type\":\"GlyphRenderer\"},{\"id\":\"9064\",\"type\":\"GlyphRenderer\"}],\"title\":{\"id\":\"9022\",\"type\":\"Title\"},\"toolbar\":{\"id\":\"9048\",\"type\":\"Toolbar\"},\"x_range\":{\"id\":\"9024\",\"type\":\"DataRange1d\"},\"x_scale\":{\"id\":\"9028\",\"type\":\"LinearScale\"},\"y_range\":{\"id\":\"9026\",\"type\":\"DataRange1d\"},\"y_scale\":{\"id\":\"9030\",\"type\":\"LinearScale\"}},\"id\":\"9021\",\"subtype\":\"Figure\",\"type\":\"Plot\"},{\"attributes\":{},\"id\":\"9495\",\"type\":\"UnionRenderers\"},{\"attributes\":{},\"id\":\"9028\",\"type\":\"LinearScale\"},{\"attributes\":{},\"id\":\"9030\",\"type\":\"LinearScale\"},{\"attributes\":{\"formatter\":{\"id\":\"9477\",\"type\":\"DatetimeTickFormatter\"},\"ticker\":{\"id\":\"9033\",\"type\":\"DatetimeTicker\"}},\"id\":\"9032\",\"type\":\"DatetimeAxis\"},{\"attributes\":{\"dimension\":1,\"ticker\":{\"id\":\"9038\",\"type\":\"BasicTicker\"}},\"id\":\"9041\",\"type\":\"Grid\"},{\"attributes\":{\"months\":[0,2,4,6,8,10]},\"id\":\"9488\",\"type\":\"MonthsTicker\"},{\"attributes\":{\"ticker\":{\"id\":\"9033\",\"type\":\"DatetimeTicker\"}},\"id\":\"9036\",\"type\":\"Grid\"},{\"attributes\":{\"num_minor_ticks\":5,\"tickers\":[{\"id\":\"9480\",\"type\":\"AdaptiveTicker\"},{\"id\":\"9481\",\"type\":\"AdaptiveTicker\"},{\"id\":\"9482\",\"type\":\"AdaptiveTicker\"},{\"id\":\"9483\",\"type\":\"DaysTicker\"},{\"id\":\"9484\",\"type\":\"DaysTicker\"},{\"id\":\"9485\",\"type\":\"DaysTicker\"},{\"id\":\"9486\",\"type\":\"DaysTicker\"},{\"id\":\"9487\",\"type\":\"MonthsTicker\"},{\"id\":\"9488\",\"type\":\"MonthsTicker\"},{\"id\":\"9489\",\"type\":\"MonthsTicker\"},{\"id\":\"9490\",\"type\":\"MonthsTicker\"},{\"id\":\"9491\",\"type\":\"YearsTicker\"}]},\"id\":\"9033\",\"type\":\"DatetimeTicker\"},{\"attributes\":{},\"id\":\"9038\",\"type\":\"BasicTicker\"},{\"attributes\":{\"formatter\":{\"id\":\"9479\",\"type\":\"BasicTickFormatter\"},\"ticker\":{\"id\":\"9038\",\"type\":\"BasicTicker\"}},\"id\":\"9037\",\"type\":\"LinearAxis\"},{\"attributes\":{\"callback\":null,\"data\":{\"x\":{\"__ndarray__\":\"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\",\"dtype\":\"float64\",\"shape\":[288]},\"y\":[143,147,150,152,152,152,154,155,142,140,138,134,131,130,128,127,126,126,126,126,127,129,131,132,134,136,136,136,136,135,134,132,130,130,130,129,128,127,125,124,123,123,122,121,120,118,115,112,111,111,110,110,109,108,107,107,107,108,107,105,105,105,105,104,103,102,99,97,96,94,94,93,93,92,91,92,94,95,96,97,99,102,104,112,112,112,111,110,107,104,105,105,103,99,96,94,95,102,114,128,144,160,173,185,196,205,209,214,219,226,234,241,248,255,260,265,268,270,272,271,271,268,265,261,256,253,250,246,244,241,237,233,229,225,222,204,200,197,193,190,186,182,179,175,171,168,164,158,154,151,148,145,141,133,139,152,173,196,217,233,244,249,250,253,256,260,263,265,265,264,260,254,246,234,217,200,188,181,175,169,164,159,154,147,138,132,129,127,123,117,111,106,104,103,100,94,88,83,78,75,73,71,69,68,67,67,68,70,71,71,70,69,68,67,67,67,66,67,69,71,74,76,78,80,80,80,80,80,80,82,84,87,90,92,87,87,86,86,86,86,87,87,87,85,83,82,83,87,95,107,118,130,141,149,172,179,187,201,214,221,225,230,232,230,223,216,208,199,191,185,181,177,176,177,176,173,171,169,163,154,152,153,154,154,153,151,150,150]},\"selected\":{\"id\":\"9494\",\"type\":\"Selection\"},\"selection_policy\":{\"id\":\"9493\",\"type\":\"UnionRenderers\"}},\"id\":\"9055\",\"type\":\"ColumnDataSource\"},{\"attributes\":{},\"id\":\"9496\",\"type\":\"Selection\"},{\"attributes\":{},\"id\":\"9042\",\"type\":\"PanTool\"},{\"attributes\":{\"active_drag\":\"auto\",\"active_inspect\":\"auto\",\"active_multi\":null,\"active_scroll\":\"auto\",\"active_tap\":\"auto\",\"tools\":[{\"id\":\"9042\",\"type\":\"PanTool\"},{\"id\":\"9043\",\"type\":\"WheelZoomTool\"},{\"id\":\"9044\",\"type\":\"BoxZoomTool\"},{\"id\":\"9045\",\"type\":\"SaveTool\"},{\"id\":\"9046\",\"type\":\"ResetTool\"},{\"id\":\"9047\",\"type\":\"HelpTool\"},{\"id\":\"9066\",\"type\":\"HoverTool\"}]},\"id\":\"9048\",\"type\":\"Toolbar\"},{\"attributes\":{\"fill_alpha\":{\"value\":0.05},\"fill_color\":{\"value\":\"blue\"},\"line_color\":{\"value\":null},\"size\":{\"units\":\"screen\",\"value\":16},\"x\":{\"field\":\"x\"},\"y\":{\"field\":\"y\"}},\"id\":\"9061\",\"type\":\"Triangle\"},{\"attributes\":{\"overlay\":{\"id\":\"9492\",\"type\":\"BoxAnnotation\"}},\"id\":\"9044\",\"type\":\"BoxZoomTool\"},{\"attributes\":{},\"id\":\"9043\",\"type\":\"WheelZoomTool\"},{\"attributes\":{},\"id\":\"9046\",\"type\":\"ResetTool\"},{\"attributes\":{\"base\":24,\"mantissas\":[1,2,4,6,8,12],\"max_interval\":43200000.0,\"min_interval\":3600000.0,\"num_minor_ticks\":0},\"id\":\"9482\",\"type\":\"AdaptiveTicker\"},{\"attributes\":{},\"id\":\"9045\",\"type\":\"SaveTool\"},{\"attributes\":{},\"id\":\"9047\",\"type\":\"HelpTool\"},{\"attributes\":{\"source\":{\"id\":\"9055\",\"type\":\"ColumnDataSource\"}},\"id\":\"9059\",\"type\":\"CDSView\"},{\"attributes\":{\"days\":[1,15]},\"id\":\"9486\",\"type\":\"DaysTicker\"},{\"attributes\":{\"callback\":null,\"data\":{\"x\":{\"__ndarray__\":\"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\",\"dtype\":\"float64\",\"shape\":[288]},\"y\":[143,147,150,152,152,152,154,155,142,140,138,134,131,130,128,127,126,126,126,126,127,129,131,132,134,136,136,136,136,135,134,132,130,130,130,129,128,127,125,124,123,123,122,121,120,118,115,112,111,111,110,110,109,108,107,107,107,108,107,105,105,105,105,104,103,102,99,97,96,94,94,93,93,92,91,92,94,95,96,97,99,102,104,112,112,112,111,110,107,104,105,105,103,99,96,94,95,102,114,128,144,160,173,185,196,205,209,214,219,226,234,241,248,255,260,265,268,270,272,271,271,268,265,261,256,253,250,246,244,241,237,233,229,225,222,204,200,197,193,190,186,182,179,175,171,168,164,158,154,151,148,145,141,133,139,152,173,196,217,233,244,249,250,253,256,260,263,265,265,264,260,254,246,234,217,200,188,181,175,169,164,159,154,147,138,132,129,127,123,117,111,106,104,103,100,94,88,83,78,75,73,71,69,68,67,67,68,70,71,71,70,69,68,67,67,67,66,67,69,71,74,76,78,80,80,80,80,80,80,82,84,87,90,92,87,87,86,86,86,86,87,87,87,85,83,82,83,87,95,107,118,130,141,149,172,179,187,201,214,221,225,230,232,230,223,216,208,199,191,185,181,177,176,177,176,173,171,169,163,154,152,153,154,154,153,151,150,150]},\"selected\":{\"id\":\"9496\",\"type\":\"Selection\"},\"selection_policy\":{\"id\":\"9495\",\"type\":\"UnionRenderers\"}},\"id\":\"9060\",\"type\":\"ColumnDataSource\"},{\"attributes\":{\"line_alpha\":0.1,\"line_color\":\"#1f77b4\",\"line_dash\":[4],\"line_width\":0.8,\"x\":{\"field\":\"x\"},\"y\":{\"field\":\"y\"}},\"id\":\"9057\",\"type\":\"Line\"},{\"attributes\":{\"days\":[1,8,15,22]},\"id\":\"9485\",\"type\":\"DaysTicker\"},{\"attributes\":{\"months\":[0,1,2,3,4,5,6,7,8,9,10,11]},\"id\":\"9487\",\"type\":\"MonthsTicker\"},{\"attributes\":{\"data_source\":{\"id\":\"9055\",\"type\":\"ColumnDataSource\"},\"glyph\":{\"id\":\"9056\",\"type\":\"Line\"},\"hover_glyph\":null,\"muted_glyph\":null,\"nonselection_glyph\":{\"id\":\"9057\",\"type\":\"Line\"},\"selection_glyph\":null,\"view\":{\"id\":\"9059\",\"type\":\"CDSView\"}},\"id\":\"9058\",\"type\":\"GlyphRenderer\"},{\"attributes\":{},\"id\":\"9494\",\"type\":\"Selection\"},{\"attributes\":{},\"id\":\"9493\",\"type\":\"UnionRenderers\"},{\"attributes\":{\"days\":[1,2,3,4,5,6,7,8,9,10,11,12,13,14,15,16,17,18,19,20,21,22,23,24,25,26,27,28,29,30,31]},\"id\":\"9483\",\"type\":\"DaysTicker\"},{\"attributes\":{\"fill_alpha\":{\"value\":0.3},\"fill_color\":{\"value\":\"#00008B\"},\"line_alpha\":{\"value\":0.3},\"line_color\":{\"value\":\"white\"},\"size\":{\"units\":\"screen\",\"value\":16},\"x\":{\"field\":\"x\"},\"y\":{\"field\":\"y\"}},\"id\":\"9063\",\"type\":\"Triangle\"},{\"attributes\":{\"days\":[1,4,7,10,13,16,19,22,25,28]},\"id\":\"9484\",\"type\":\"DaysTicker\"},{\"attributes\":{\"fill_alpha\":{\"value\":0.1},\"fill_color\":{\"value\":\"#1f77b4\"},\"line_alpha\":{\"value\":0.1},\"line_color\":{\"value\":\"#1f77b4\"},\"size\":{\"units\":\"screen\",\"value\":16},\"x\":{\"field\":\"x\"},\"y\":{\"field\":\"y\"}},\"id\":\"9062\",\"type\":\"Triangle\"},{\"attributes\":{\"source\":{\"id\":\"9060\",\"type\":\"ColumnDataSource\"}},\"id\":\"9065\",\"type\":\"CDSView\"},{\"attributes\":{},\"id\":\"9491\",\"type\":\"YearsTicker\"},{\"attributes\":{\"data_source\":{\"id\":\"9060\",\"type\":\"ColumnDataSource\"},\"glyph\":{\"id\":\"9061\",\"type\":\"Triangle\"},\"hover_glyph\":{\"id\":\"9063\",\"type\":\"Triangle\"},\"muted_glyph\":null,\"nonselection_glyph\":{\"id\":\"9062\",\"type\":\"Triangle\"},\"selection_glyph\":null,\"view\":{\"id\":\"9065\",\"type\":\"CDSView\"}},\"id\":\"9064\",\"type\":\"GlyphRenderer\"},{\"attributes\":{\"bottom_units\":\"screen\",\"fill_alpha\":{\"value\":0.5},\"fill_color\":{\"value\":\"lightgrey\"},\"left_units\":\"screen\",\"level\":\"overlay\",\"line_alpha\":{\"value\":1.0},\"line_color\":{\"value\":\"black\"},\"line_dash\":[4,4],\"line_width\":{\"value\":2},\"render_mode\":\"css\",\"right_units\":\"screen\",\"top_units\":\"screen\"},\"id\":\"9492\",\"type\":\"BoxAnnotation\"},{\"attributes\":{\"callback\":null},\"id\":\"9024\",\"type\":\"DataRange1d\"},{\"attributes\":{},\"id\":\"9479\",\"type\":\"BasicTickFormatter\"},{\"attributes\":{\"mantissas\":[1,2,5],\"max_interval\":500.0,\"num_minor_ticks\":0},\"id\":\"9480\",\"type\":\"AdaptiveTicker\"},{\"attributes\":{\"text\":\"Hover over points\"},\"id\":\"9022\",\"type\":\"Title\"},{\"attributes\":{},\"id\":\"9477\",\"type\":\"DatetimeTickFormatter\"},{\"attributes\":{\"line_color\":\"#8A2BE2\",\"line_dash\":[4],\"line_width\":0.8,\"x\":{\"field\":\"x\"},\"y\":{\"field\":\"y\"}},\"id\":\"9056\",\"type\":\"Line\"},{\"attributes\":{\"months\":[0,4,8]},\"id\":\"9489\",\"type\":\"MonthsTicker\"},{\"attributes\":{\"months\":[0,6]},\"id\":\"9490\",\"type\":\"MonthsTicker\"},{\"attributes\":{\"base\":60,\"mantissas\":[1,2,5,10,15,20,30],\"max_interval\":1800000.0,\"min_interval\":1000.0,\"num_minor_ticks\":0},\"id\":\"9481\",\"type\":\"AdaptiveTicker\"},{\"attributes\":{\"callback\":null,\"mode\":\"hline\",\"renderers\":[{\"id\":\"9064\",\"type\":\"GlyphRenderer\"}],\"tooltips\":null},\"id\":\"9066\",\"type\":\"HoverTool\"},{\"attributes\":{\"callback\":null},\"id\":\"9026\",\"type\":\"DataRange1d\"}],\"root_ids\":[\"9021\"]},\"title\":\"Bokeh Application\",\"version\":\"1.3.4\"}};\n",
       "  var render_items = [{\"docid\":\"6fbcdc72-36cc-4f55-9be8-df7bdd55e5f7\",\"roots\":{\"9021\":\"4e466f68-5a8a-4a3b-9845-932a47161cbc\"}}];\n",
       "  root.Bokeh.embed.embed_items_notebook(docs_json, render_items);\n",
       "\n",
       "  }\n",
       "  if (root.Bokeh !== undefined) {\n",
       "    embed_document(root);\n",
       "  } else {\n",
       "    var attempts = 0;\n",
       "    var timer = setInterval(function(root) {\n",
       "      if (root.Bokeh !== undefined) {\n",
       "        embed_document(root);\n",
       "        clearInterval(timer);\n",
       "      }\n",
       "      attempts++;\n",
       "      if (attempts > 100) {\n",
       "        console.log(\"Bokeh: ERROR: Unable to run BokehJS code because BokehJS library is missing\");\n",
       "        clearInterval(timer);\n",
       "      }\n",
       "    }, 10, root)\n",
       "  }\n",
       "})(window);"
      ],
      "application/vnd.bokehjs_exec.v0+json": ""
     },
     "metadata": {
      "application/vnd.bokehjs_exec.v0+json": {
       "id": "9021"
      }
     },
     "output_type": "display_data"
    }
   ],
   "source": [
    "# EXERCISE: experiment with standard, selected, hover glyph visual properties\n",
    "subset = data.loc['2010-10-06']\n",
    "\n",
    "x, y = subset.index.to_series(), subset['glucose']\n",
    "p = figure(width=600, height=300, x_axis_type=\"datetime\", title='Hover over points')\n",
    "p.line(x, y, line_dash=\"4\", line_width=0.8 , color='#8A2BE2')\n",
    "cr = p.triangle(x, y, size=16,\n",
    "              fill_color=\"blue\", hover_fill_color='#00008B',\n",
    "              fill_alpha=0.05, hover_alpha=0.3,\n",
    "              line_color=None, hover_line_color=\"white\")\n",
    "\n",
    "p.add_tools(HoverTool(tooltips=None, renderers=[cr], mode='hline'))\n",
    "\n",
    "show(p)"
   ]
  },
  {
   "cell_type": "code",
   "execution_count": 47,
   "metadata": {},
   "outputs": [
    {
     "ename": "SyntaxError",
     "evalue": "invalid syntax (<ipython-input-47-badecd205525>, line 2)",
     "output_type": "error",
     "traceback": [
      "\u001b[1;36m  File \u001b[1;32m\"<ipython-input-47-badecd205525>\"\u001b[1;36m, line \u001b[1;32m2\u001b[0m\n\u001b[1;33m    p.xaxis. < >\u001b[0m\n\u001b[1;37m             ^\u001b[0m\n\u001b[1;31mSyntaxError\u001b[0m\u001b[1;31m:\u001b[0m invalid syntax\n"
     ]
    }
   ],
   "source": [
    "# EXERCISE Try out tab completion. Type p.xaxis.<press tab key> to see a list of attributes that can be set.\n",
    "p.xaxis.< >"
   ]
  },
  {
   "cell_type": "code",
   "execution_count": 48,
   "metadata": {},
   "outputs": [
    {
     "data": {
      "text/html": [
       "\n",
       "\n",
       "\n",
       "\n",
       "\n",
       "\n",
       "  <div class=\"bk-root\" id=\"38ee02cf-1e59-47ee-89da-34276e825a4c\" data-root-id=\"9629\"></div>\n"
      ]
     },
     "metadata": {},
     "output_type": "display_data"
    },
    {
     "data": {
      "application/javascript": [
       "(function(root) {\n",
       "  function embed_document(root) {\n",
       "    \n",
       "  var docs_json = {\"ea50fe63-35e2-478f-b919-081827db7e6e\":{\"roots\":{\"references\":[{\"attributes\":{\"below\":[{\"id\":\"9638\",\"type\":\"LinearAxis\"}],\"center\":[{\"id\":\"9642\",\"type\":\"Grid\"},{\"id\":\"9647\",\"type\":\"Grid\"}],\"left\":[{\"id\":\"9643\",\"type\":\"LinearAxis\"}],\"plot_height\":400,\"plot_width\":400,\"renderers\":[{\"id\":\"9664\",\"type\":\"GlyphRenderer\"}],\"title\":{\"id\":\"10095\",\"type\":\"Title\"},\"toolbar\":{\"id\":\"9654\",\"type\":\"Toolbar\"},\"x_range\":{\"id\":\"9630\",\"type\":\"DataRange1d\"},\"x_scale\":{\"id\":\"9634\",\"type\":\"LinearScale\"},\"y_range\":{\"id\":\"9632\",\"type\":\"DataRange1d\"},\"y_scale\":{\"id\":\"9636\",\"type\":\"LinearScale\"}},\"id\":\"9629\",\"subtype\":\"Figure\",\"type\":\"Plot\"},{\"attributes\":{},\"id\":\"10100\",\"type\":\"BasicTickFormatter\"},{\"attributes\":{\"callback\":null},\"id\":\"9630\",\"type\":\"DataRange1d\"},{\"attributes\":{\"bottom_units\":\"screen\",\"fill_alpha\":{\"value\":0.5},\"fill_color\":{\"value\":\"lightgrey\"},\"left_units\":\"screen\",\"level\":\"overlay\",\"line_alpha\":{\"value\":1.0},\"line_color\":{\"value\":\"black\"},\"line_dash\":[4,4],\"line_width\":{\"value\":2},\"render_mode\":\"css\",\"right_units\":\"screen\",\"top_units\":\"screen\"},\"id\":\"10101\",\"type\":\"BoxAnnotation\"},{\"attributes\":{\"text\":\"\"},\"id\":\"10095\",\"type\":\"Title\"},{\"attributes\":{},\"id\":\"10098\",\"type\":\"BasicTickFormatter\"},{\"attributes\":{\"active_drag\":\"auto\",\"active_inspect\":\"auto\",\"active_multi\":null,\"active_scroll\":\"auto\",\"active_tap\":\"auto\",\"tools\":[{\"id\":\"9648\",\"type\":\"PanTool\"},{\"id\":\"9649\",\"type\":\"WheelZoomTool\"},{\"id\":\"9650\",\"type\":\"BoxZoomTool\"},{\"id\":\"9651\",\"type\":\"SaveTool\"},{\"id\":\"9652\",\"type\":\"ResetTool\"},{\"id\":\"9653\",\"type\":\"HelpTool\"}]},\"id\":\"9654\",\"type\":\"Toolbar\"},{\"attributes\":{\"data_source\":{\"id\":\"9661\",\"type\":\"ColumnDataSource\"},\"glyph\":{\"id\":\"9662\",\"type\":\"X\"},\"hover_glyph\":null,\"muted_glyph\":null,\"nonselection_glyph\":{\"id\":\"9663\",\"type\":\"X\"},\"selection_glyph\":null,\"view\":{\"id\":\"9665\",\"type\":\"CDSView\"}},\"id\":\"9664\",\"type\":\"GlyphRenderer\"},{\"attributes\":{},\"id\":\"10102\",\"type\":\"UnionRenderers\"},{\"attributes\":{\"ticker\":{\"id\":\"9639\",\"type\":\"BasicTicker\"}},\"id\":\"9642\",\"type\":\"Grid\"},{\"attributes\":{\"fill_color\":{\"value\":\"#1f77b4\"},\"line_color\":{\"value\":\"#1f77b4\"},\"line_width\":{\"value\":2},\"size\":{\"units\":\"screen\",\"value\":10},\"x\":{\"field\":\"x\"},\"y\":{\"field\":\"y\"}},\"id\":\"9662\",\"type\":\"X\"},{\"attributes\":{},\"id\":\"9648\",\"type\":\"PanTool\"},{\"attributes\":{},\"id\":\"10103\",\"type\":\"Selection\"},{\"attributes\":{\"fill_alpha\":{\"value\":0.1},\"fill_color\":{\"value\":\"#1f77b4\"},\"line_alpha\":{\"value\":0.1},\"line_color\":{\"value\":\"#1f77b4\"},\"line_width\":{\"value\":2},\"size\":{\"units\":\"screen\",\"value\":10},\"x\":{\"field\":\"x\"},\"y\":{\"field\":\"y\"}},\"id\":\"9663\",\"type\":\"X\"},{\"attributes\":{},\"id\":\"9649\",\"type\":\"WheelZoomTool\"},{\"attributes\":{},\"id\":\"9651\",\"type\":\"SaveTool\"},{\"attributes\":{},\"id\":\"9644\",\"type\":\"BasicTicker\"},{\"attributes\":{\"overlay\":{\"id\":\"10101\",\"type\":\"BoxAnnotation\"}},\"id\":\"9650\",\"type\":\"BoxZoomTool\"},{\"attributes\":{\"callback\":null,\"data\":{\"x\":[1,2,3,4,5],\"y\":[2,5,8,2,7]},\"selected\":{\"id\":\"10103\",\"type\":\"Selection\"},\"selection_policy\":{\"id\":\"10102\",\"type\":\"UnionRenderers\"}},\"id\":\"9661\",\"type\":\"ColumnDataSource\"},{\"attributes\":{},\"id\":\"9639\",\"type\":\"BasicTicker\"},{\"attributes\":{\"dimension\":1,\"ticker\":{\"id\":\"9644\",\"type\":\"BasicTicker\"}},\"id\":\"9647\",\"type\":\"Grid\"},{\"attributes\":{},\"id\":\"9652\",\"type\":\"ResetTool\"},{\"attributes\":{},\"id\":\"9634\",\"type\":\"LinearScale\"},{\"attributes\":{},\"id\":\"9636\",\"type\":\"LinearScale\"},{\"attributes\":{\"source\":{\"id\":\"9661\",\"type\":\"ColumnDataSource\"}},\"id\":\"9665\",\"type\":\"CDSView\"},{\"attributes\":{},\"id\":\"9653\",\"type\":\"HelpTool\"},{\"attributes\":{\"formatter\":{\"id\":\"10100\",\"type\":\"BasicTickFormatter\"},\"major_label_orientation\":\"vertical\",\"ticker\":{\"id\":\"9644\",\"type\":\"BasicTicker\"}},\"id\":\"9643\",\"type\":\"LinearAxis\"},{\"attributes\":{\"formatter\":{\"id\":\"10098\",\"type\":\"BasicTickFormatter\"},\"major_label_orientation\":0.7853981633974483,\"ticker\":{\"id\":\"9639\",\"type\":\"BasicTicker\"}},\"id\":\"9638\",\"type\":\"LinearAxis\"},{\"attributes\":{\"callback\":null},\"id\":\"9632\",\"type\":\"DataRange1d\"}],\"root_ids\":[\"9629\"]},\"title\":\"Bokeh Application\",\"version\":\"1.3.4\"}};\n",
       "  var render_items = [{\"docid\":\"ea50fe63-35e2-478f-b919-081827db7e6e\",\"roots\":{\"9629\":\"38ee02cf-1e59-47ee-89da-34276e825a4c\"}}];\n",
       "  root.Bokeh.embed.embed_items_notebook(docs_json, render_items);\n",
       "\n",
       "  }\n",
       "  if (root.Bokeh !== undefined) {\n",
       "    embed_document(root);\n",
       "  } else {\n",
       "    var attempts = 0;\n",
       "    var timer = setInterval(function(root) {\n",
       "      if (root.Bokeh !== undefined) {\n",
       "        embed_document(root);\n",
       "        clearInterval(timer);\n",
       "      }\n",
       "      attempts++;\n",
       "      if (attempts > 100) {\n",
       "        console.log(\"Bokeh: ERROR: Unable to run BokehJS code because BokehJS library is missing\");\n",
       "        clearInterval(timer);\n",
       "      }\n",
       "    }, 10, root)\n",
       "  }\n",
       "})(window);"
      ],
      "application/vnd.bokehjs_exec.v0+json": ""
     },
     "metadata": {
      "application/vnd.bokehjs_exec.v0+json": {
       "id": "9629"
      }
     },
     "output_type": "display_data"
    }
   ],
   "source": [
    "\n",
    "from math import pi\n",
    "\n",
    "p = figure(plot_width=400, plot_height=400)\n",
    "p.x([1,2,3,4,5], [2,5,8,2,7], size=10, line_width=2)\n",
    "\n",
    "p.xaxis.major_label_orientation = pi/4\n",
    "p.yaxis.major_label_orientation = \"vertical\"\n",
    "\n",
    "show(p)"
   ]
  },
  {
   "cell_type": "code",
   "execution_count": 49,
   "metadata": {},
   "outputs": [
    {
     "data": {
      "text/html": [
       "\n",
       "\n",
       "\n",
       "\n",
       "\n",
       "\n",
       "  <div class=\"bk-root\" id=\"a449fa6f-c019-45d9-89db-6be1226494c1\" data-root-id=\"10158\"></div>\n"
      ]
     },
     "metadata": {},
     "output_type": "display_data"
    },
    {
     "data": {
      "application/javascript": [
       "(function(root) {\n",
       "  function embed_document(root) {\n",
       "    \n",
       "  var docs_json = {\"d5bc8fde-23ee-439f-a4df-6e087309d4c1\":{\"roots\":{\"references\":[{\"attributes\":{\"below\":[{\"id\":\"10167\",\"type\":\"LinearAxis\"}],\"center\":[{\"id\":\"10171\",\"type\":\"Grid\"},{\"id\":\"10176\",\"type\":\"Grid\"}],\"left\":[{\"id\":\"10172\",\"type\":\"LinearAxis\"}],\"plot_height\":400,\"plot_width\":400,\"renderers\":[{\"id\":\"10193\",\"type\":\"GlyphRenderer\"}],\"title\":{\"id\":\"10633\",\"type\":\"Title\"},\"toolbar\":{\"id\":\"10183\",\"type\":\"Toolbar\"},\"x_range\":{\"id\":\"10159\",\"type\":\"DataRange1d\"},\"x_scale\":{\"id\":\"10163\",\"type\":\"LinearScale\"},\"y_range\":{\"id\":\"10161\",\"type\":\"DataRange1d\"},\"y_scale\":{\"id\":\"10165\",\"type\":\"LinearScale\"}},\"id\":\"10158\",\"subtype\":\"Figure\",\"type\":\"Plot\"},{\"attributes\":{},\"id\":\"10641\",\"type\":\"Selection\"},{\"attributes\":{\"fill_color\":{\"value\":\"olive\"},\"line_color\":{\"value\":\"olive\"},\"size\":{\"units\":\"screen\",\"value\":12},\"x\":{\"field\":\"x\"},\"y\":{\"field\":\"y\"}},\"id\":\"10191\",\"type\":\"Asterisk\"},{\"attributes\":{\"callback\":null,\"data\":{\"x\":[1,2,3,4,5],\"y\":[2,5,8,2,7]},\"selected\":{\"id\":\"10641\",\"type\":\"Selection\"},\"selection_policy\":{\"id\":\"10640\",\"type\":\"UnionRenderers\"}},\"id\":\"10190\",\"type\":\"ColumnDataSource\"},{\"attributes\":{\"callback\":null},\"id\":\"10159\",\"type\":\"DataRange1d\"},{\"attributes\":{\"callback\":null},\"id\":\"10161\",\"type\":\"DataRange1d\"},{\"attributes\":{},\"id\":\"10163\",\"type\":\"LinearScale\"},{\"attributes\":{},\"id\":\"10165\",\"type\":\"LinearScale\"},{\"attributes\":{\"axis_label\":\"Temp\",\"axis_line_color\":{\"value\":\"red\"},\"axis_line_width\":{\"value\":3},\"formatter\":{\"id\":\"10636\",\"type\":\"BasicTickFormatter\"},\"minor_tick_in\":-3,\"minor_tick_out\":6,\"ticker\":{\"id\":\"10168\",\"type\":\"BasicTicker\"}},\"id\":\"10167\",\"type\":\"LinearAxis\"},{\"attributes\":{},\"id\":\"10168\",\"type\":\"BasicTicker\"},{\"attributes\":{\"bottom_units\":\"screen\",\"fill_alpha\":{\"value\":0.5},\"fill_color\":{\"value\":\"lightgrey\"},\"left_units\":\"screen\",\"level\":\"overlay\",\"line_alpha\":{\"value\":1.0},\"line_color\":{\"value\":\"black\"},\"line_dash\":[4,4],\"line_width\":{\"value\":2},\"render_mode\":\"css\",\"right_units\":\"screen\",\"top_units\":\"screen\"},\"id\":\"10639\",\"type\":\"BoxAnnotation\"},{\"attributes\":{\"ticker\":{\"id\":\"10168\",\"type\":\"BasicTicker\"}},\"id\":\"10171\",\"type\":\"Grid\"},{\"attributes\":{},\"id\":\"10173\",\"type\":\"BasicTicker\"},{\"attributes\":{\"fill_alpha\":{\"value\":0.1},\"fill_color\":{\"value\":\"#1f77b4\"},\"line_alpha\":{\"value\":0.1},\"line_color\":{\"value\":\"#1f77b4\"},\"size\":{\"units\":\"screen\",\"value\":12},\"x\":{\"field\":\"x\"},\"y\":{\"field\":\"y\"}},\"id\":\"10192\",\"type\":\"Asterisk\"},{\"attributes\":{},\"id\":\"10177\",\"type\":\"PanTool\"},{\"attributes\":{\"dimension\":1,\"ticker\":{\"id\":\"10173\",\"type\":\"BasicTicker\"}},\"id\":\"10176\",\"type\":\"Grid\"},{\"attributes\":{\"axis_label\":\"Pressure\",\"formatter\":{\"id\":\"10638\",\"type\":\"BasicTickFormatter\"},\"major_label_orientation\":\"vertical\",\"major_label_text_color\":{\"value\":\"orange\"},\"minor_tick_in\":-3,\"minor_tick_out\":6,\"ticker\":{\"id\":\"10173\",\"type\":\"BasicTicker\"}},\"id\":\"10172\",\"type\":\"LinearAxis\"},{\"attributes\":{},\"id\":\"10181\",\"type\":\"ResetTool\"},{\"attributes\":{\"overlay\":{\"id\":\"10639\",\"type\":\"BoxAnnotation\"}},\"id\":\"10179\",\"type\":\"BoxZoomTool\"},{\"attributes\":{},\"id\":\"10636\",\"type\":\"BasicTickFormatter\"},{\"attributes\":{},\"id\":\"10180\",\"type\":\"SaveTool\"},{\"attributes\":{},\"id\":\"10178\",\"type\":\"WheelZoomTool\"},{\"attributes\":{},\"id\":\"10182\",\"type\":\"HelpTool\"},{\"attributes\":{\"active_drag\":\"auto\",\"active_inspect\":\"auto\",\"active_multi\":null,\"active_scroll\":\"auto\",\"active_tap\":\"auto\",\"tools\":[{\"id\":\"10177\",\"type\":\"PanTool\"},{\"id\":\"10178\",\"type\":\"WheelZoomTool\"},{\"id\":\"10179\",\"type\":\"BoxZoomTool\"},{\"id\":\"10180\",\"type\":\"SaveTool\"},{\"id\":\"10181\",\"type\":\"ResetTool\"},{\"id\":\"10182\",\"type\":\"HelpTool\"}]},\"id\":\"10183\",\"type\":\"Toolbar\"},{\"attributes\":{},\"id\":\"10640\",\"type\":\"UnionRenderers\"},{\"attributes\":{\"source\":{\"id\":\"10190\",\"type\":\"ColumnDataSource\"}},\"id\":\"10194\",\"type\":\"CDSView\"},{\"attributes\":{\"data_source\":{\"id\":\"10190\",\"type\":\"ColumnDataSource\"},\"glyph\":{\"id\":\"10191\",\"type\":\"Asterisk\"},\"hover_glyph\":null,\"muted_glyph\":null,\"nonselection_glyph\":{\"id\":\"10192\",\"type\":\"Asterisk\"},\"selection_glyph\":null,\"view\":{\"id\":\"10194\",\"type\":\"CDSView\"}},\"id\":\"10193\",\"type\":\"GlyphRenderer\"},{\"attributes\":{},\"id\":\"10638\",\"type\":\"BasicTickFormatter\"},{\"attributes\":{\"text\":\"\"},\"id\":\"10633\",\"type\":\"Title\"}],\"root_ids\":[\"10158\"]},\"title\":\"Bokeh Application\",\"version\":\"1.3.4\"}};\n",
       "  var render_items = [{\"docid\":\"d5bc8fde-23ee-439f-a4df-6e087309d4c1\",\"roots\":{\"10158\":\"a449fa6f-c019-45d9-89db-6be1226494c1\"}}];\n",
       "  root.Bokeh.embed.embed_items_notebook(docs_json, render_items);\n",
       "\n",
       "  }\n",
       "  if (root.Bokeh !== undefined) {\n",
       "    embed_document(root);\n",
       "  } else {\n",
       "    var attempts = 0;\n",
       "    var timer = setInterval(function(root) {\n",
       "      if (root.Bokeh !== undefined) {\n",
       "        embed_document(root);\n",
       "        clearInterval(timer);\n",
       "      }\n",
       "      attempts++;\n",
       "      if (attempts > 100) {\n",
       "        console.log(\"Bokeh: ERROR: Unable to run BokehJS code because BokehJS library is missing\");\n",
       "        clearInterval(timer);\n",
       "      }\n",
       "    }, 10, root)\n",
       "  }\n",
       "})(window);"
      ],
      "application/vnd.bokehjs_exec.v0+json": ""
     },
     "metadata": {
      "application/vnd.bokehjs_exec.v0+json": {
       "id": "10158"
      }
     },
     "output_type": "display_data"
    }
   ],
   "source": [
    "p = figure(plot_width=400, plot_height=400)\n",
    "p.asterisk([1,2,3,4,5], [2,5,8,2,7], size=12, color=\"olive\")\n",
    "\n",
    "# change just some things about the x-axes\n",
    "p.xaxis.axis_label = \"Temp\"\n",
    "p.xaxis.axis_line_width = 3\n",
    "p.xaxis.axis_line_color = \"red\"\n",
    "\n",
    "# change just some things about the y-axes\n",
    "p.yaxis.axis_label = \"Pressure\"\n",
    "p.yaxis.major_label_text_color = \"orange\"\n",
    "p.yaxis.major_label_orientation = \"vertical\"\n",
    "\n",
    "# change things on all axes\n",
    "p.axis.minor_tick_in = -3\n",
    "p.axis.minor_tick_out = 6\n",
    "\n",
    "show(p)"
   ]
  },
  {
   "cell_type": "code",
   "execution_count": 60,
   "metadata": {},
   "outputs": [
    {
     "data": {
      "text/html": [
       "\n",
       "\n",
       "\n",
       "\n",
       "\n",
       "\n",
       "  <div class=\"bk-root\" id=\"1a4775ad-660c-41fe-9aa4-4b6e2d124b12\" data-root-id=\"15943\"></div>\n"
      ]
     },
     "metadata": {},
     "output_type": "display_data"
    },
    {
     "data": {
      "application/javascript": [
       "(function(root) {\n",
       "  function embed_document(root) {\n",
       "    \n",
       "  var docs_json = {\"9208a9bf-58c3-4aee-a30d-b6edd0c99909\":{\"roots\":{\"references\":[{\"attributes\":{\"below\":[{\"id\":\"15952\",\"type\":\"LinearAxis\"}],\"center\":[{\"id\":\"15956\",\"type\":\"Grid\"},{\"id\":\"15961\",\"type\":\"Grid\"}],\"left\":[{\"id\":\"15957\",\"type\":\"LinearAxis\"}],\"plot_height\":400,\"plot_width\":400,\"renderers\":[{\"id\":\"15978\",\"type\":\"GlyphRenderer\"}],\"title\":{\"id\":\"16508\",\"type\":\"Title\"},\"toolbar\":{\"id\":\"15968\",\"type\":\"Toolbar\"},\"x_range\":{\"id\":\"15944\",\"type\":\"DataRange1d\"},\"x_scale\":{\"id\":\"15948\",\"type\":\"LinearScale\"},\"y_range\":{\"id\":\"15946\",\"type\":\"DataRange1d\"},\"y_scale\":{\"id\":\"15950\",\"type\":\"LinearScale\"}},\"id\":\"15943\",\"subtype\":\"Figure\",\"type\":\"Plot\"},{\"attributes\":{\"dimension\":1,\"ticker\":{\"id\":\"15958\",\"type\":\"BasicTicker\"}},\"id\":\"15961\",\"type\":\"Grid\"},{\"attributes\":{},\"id\":\"15965\",\"type\":\"SaveTool\"},{\"attributes\":{},\"id\":\"15966\",\"type\":\"ResetTool\"},{\"attributes\":{},\"id\":\"15967\",\"type\":\"HelpTool\"},{\"attributes\":{\"active_drag\":\"auto\",\"active_inspect\":\"auto\",\"active_multi\":null,\"active_scroll\":\"auto\",\"active_tap\":\"auto\",\"tools\":[{\"id\":\"15962\",\"type\":\"PanTool\"},{\"id\":\"15963\",\"type\":\"WheelZoomTool\"},{\"id\":\"15964\",\"type\":\"BoxZoomTool\"},{\"id\":\"15965\",\"type\":\"SaveTool\"},{\"id\":\"15966\",\"type\":\"ResetTool\"},{\"id\":\"15967\",\"type\":\"HelpTool\"}]},\"id\":\"15968\",\"type\":\"Toolbar\"},{\"attributes\":{},\"id\":\"15948\",\"type\":\"LinearScale\"},{\"attributes\":{},\"id\":\"16511\",\"type\":\"BasicTickFormatter\"},{\"attributes\":{},\"id\":\"16513\",\"type\":\"BasicTickFormatter\"},{\"attributes\":{\"data_source\":{\"id\":\"15975\",\"type\":\"ColumnDataSource\"},\"glyph\":{\"id\":\"15976\",\"type\":\"Circle\"},\"hover_glyph\":null,\"muted_glyph\":null,\"nonselection_glyph\":{\"id\":\"15977\",\"type\":\"Circle\"},\"selection_glyph\":null,\"view\":{\"id\":\"15979\",\"type\":\"CDSView\"}},\"id\":\"15978\",\"type\":\"GlyphRenderer\"},{\"attributes\":{\"source\":{\"id\":\"15975\",\"type\":\"ColumnDataSource\"}},\"id\":\"15979\",\"type\":\"CDSView\"},{\"attributes\":{},\"id\":\"16516\",\"type\":\"Selection\"},{\"attributes\":{},\"id\":\"16515\",\"type\":\"UnionRenderers\"},{\"attributes\":{\"callback\":null},\"id\":\"15946\",\"type\":\"DataRange1d\"},{\"attributes\":{\"fill_color\":{\"value\":\"red\"},\"line_color\":{\"value\":\"red\"},\"size\":{\"units\":\"screen\",\"value\":3},\"x\":{\"field\":\"x\"},\"y\":{\"field\":\"y\"}},\"id\":\"15976\",\"type\":\"Circle\"},{\"attributes\":{\"ticker\":{\"id\":\"15953\",\"type\":\"BasicTicker\"}},\"id\":\"15956\",\"type\":\"Grid\"},{\"attributes\":{},\"id\":\"15950\",\"type\":\"LinearScale\"},{\"attributes\":{\"callback\":null,\"data\":{\"x\":{\"__ndarray__\":\"FiRn3bYw7r/rF5Jg2pL2v+n8hD/v9/S/PkUWKrvN6b8Svw2fIA63PwXYyJEPEfo/ZsAcEDTk2z8xwhiFzzKfvzMIss014/Y/+lhJnJ1I8j8DAcQdLrPrvz8vATisY8O/wV18se+yv78j/+Uryx7WPwVeXNascMk/2DOPsqCX7T8bMeID8hzUv8njmV2fIcw/97lsAB884b95QLmzhpLpP7KXWgKNDvG/rPeDQkJs9b8mscfj56bjP8a4Tk/6Xcc/2oT5pJPe579OdBzRpef4P6IF0zLMs+2/CkgWT0WWxz91RJfM/FLRv3S6HkdyZvm/aVWUYdw/1j8DeuUZi02zP6k5BeydYPC/qEso1l5M5L+Lc3SFV/zlPyKjHyqwnARArWIvzTQi6T/rFoRkSc7kv1Dzttc2xdQ/osxRj7u50z8Xsdq1WUbxPwFpOIq4J+K/TorbfGOh3L9e5hbbOynsv7LyhRgeUrC/SCBXKEZF7L9Shluesj/Kv5ePx7zlK/M/6PE4q4sO478DB7SGqEHjv3dlGBtZ/fm/vET8+SZe2r/07ZyQyWDyP8Ml/CPFTeY/XqeO9py85r8jvZolm23TP0Fny+8+8/i/IbhY20bB0b+/zDuJb1ztv/r9hqQI8vO/aCje3ewfjz+yk34IjRIBwFOv2XB/bM8/W/ER7hxB4j9LMDUZ7HsIwHS9b2kZFN6/dleHHZxS3r8FE/9F/4D1PzjwBumtFui/JaUxcgao6L83XXub0Lzwv49cRa2cm9g/CaFXbbJQ7z+16mMTCjzxvyDIGTIeD+2/Lx3paoNp9L8Xa1C79hu+v5r9PXmTi7c/tQceBmHM/D+AA2SpmuTev6cPmbX3zNc/Ch0WLZuKkD88UFYEfdz7vyTBhx8xkAFAPnuaC5ftBUA+spu6Zib4v4Ts77WB9u6/+ZV/MYnf/79VUybc2N/qPwOmmPysH/m/gn627v2V47+ltbt4bHbAP/E2/WYzaOm/uQTWyFwh87+LUvIUSj/uv9LLIJJJfOE/lVSVHoKus78kmMqsk0zoPyCmWKIueOc/NGcQmIEC4j8=\",\"dtype\":\"float64\",\"shape\":[100]},\"y\":{\"__ndarray__\":\"dQUJ8IVf4b8rR34NcwPtv/yV5zh1C94/xCfOzl6M4z+Glti/2aD/P+9snp8cIra/jqzpyIUv379PFQdv8KPgv0Dv3AlCoeQ/oa0lclVX6r8IhSbSY7jzP7QK48fs2OE/mVOHeUzS8L+s8+Y3/o3oP6k8klqlKvk/ZCv8ZM/27j+G4iWHurbxPx/wn++xavA/aliJfytN5D8TkrvY/kHrP6qvvekXq/S/Ck73gmNJ4L/4sijZsXOdP+3V3HbfNdo/9Pn4eASSnr9bYp69EyvYv74jQLv5kZk/IbKIFgyp77/H4v6lD4KLv5GQresPHvI/r1kXfOl+1D/r4r6631zwP5RaCeOMjbk/VO27Olbr3r8Zvbbk14DkP67Mm3YYg9O/BVvaiaAM9z9LsVUplUPJvz3eK0cJHe4/jxufFhlm5z9xy/Q6gGzjP32s282kIvU//9QJu9Gf2L9QPT6jS/vJPzdHxfqW9v8/T5RJ9s/T2r8TX7/yGADqP+IIr1LwmO8/XpMzDg+B67/1NrpsxFj2P7rrIfa0FOI/irAF0Lag+T9hfN3bWh/+P8V2uHSsO92/FztkHPcQAcBBOmk2qCbvP6MxdPJBVfI/7R7MxVkPtr8YIVorlE3zv2tv/eRSQHO/SvAwvJsnAUBn24arQA/tP1RRdUS568A/apHiuQZZ7L8JEC2TeRDFvxTVUgSHZ+g/yRy4i3wb6z+EaY6K3gLxP9cmDPTL1/K/WFlZiejN8D8hlzvjq+DFv9q950uyUuY/SC3rJQtw2D+6RBxoeqftvza1df8Eo+2/hxGIiZYkwD/FFN/hpd7Xv7NXzhm2qO8/YM9oG3go+j9rINQBl7z7PwPuh1xUN82/xPhaD23/zD/fn5H4nOjFP9FIC+/auek/LU4VKPs98z9oG5Kj2FXTP4Yc3leJAf0/lC/TaPz6oD+29zQBj/3Fv9Ev95MSkd+/X8Thzz+Xx7/I9F9DbwDUPwClFE1sBfu/utsirzrV4b9tkMf5y9f2P7GqPnm2yt4/uCuS4khn+r8n+BX5msLjP8YDpdJYrNE/AZSOnzqq5L8=\",\"dtype\":\"float64\",\"shape\":[100]}},\"selected\":{\"id\":\"16516\",\"type\":\"Selection\"},\"selection_policy\":{\"id\":\"16515\",\"type\":\"UnionRenderers\"}},\"id\":\"15975\",\"type\":\"ColumnDataSource\"},{\"attributes\":{\"bottom_units\":\"screen\",\"fill_alpha\":{\"value\":0.5},\"fill_color\":{\"value\":\"lightgrey\"},\"left_units\":\"screen\",\"level\":\"overlay\",\"line_alpha\":{\"value\":1.0},\"line_color\":{\"value\":\"black\"},\"line_dash\":[4,4],\"line_width\":{\"value\":2},\"render_mode\":\"css\",\"right_units\":\"screen\",\"top_units\":\"screen\"},\"id\":\"16514\",\"type\":\"BoxAnnotation\"},{\"attributes\":{\"formatter\":{\"id\":\"16513\",\"type\":\"BasicTickFormatter\"},\"ticker\":{\"id\":\"15958\",\"type\":\"BasicTicker\"}},\"id\":\"15957\",\"type\":\"LinearAxis\"},{\"attributes\":{\"axis_label\":\"random numbers\",\"axis_line_color\":{\"value\":\"red\"},\"axis_line_width\":{\"value\":7},\"formatter\":{\"id\":\"16511\",\"type\":\"BasicTickFormatter\"},\"ticker\":{\"id\":\"15953\",\"type\":\"BasicTicker\"}},\"id\":\"15952\",\"type\":\"LinearAxis\"},{\"attributes\":{},\"id\":\"15953\",\"type\":\"BasicTicker\"},{\"attributes\":{},\"id\":\"15958\",\"type\":\"BasicTicker\"},{\"attributes\":{\"overlay\":{\"id\":\"16514\",\"type\":\"BoxAnnotation\"}},\"id\":\"15964\",\"type\":\"BoxZoomTool\"},{\"attributes\":{\"fill_alpha\":{\"value\":0.1},\"fill_color\":{\"value\":\"#1f77b4\"},\"line_alpha\":{\"value\":0.1},\"line_color\":{\"value\":\"#1f77b4\"},\"size\":{\"units\":\"screen\",\"value\":3},\"x\":{\"field\":\"x\"},\"y\":{\"field\":\"y\"}},\"id\":\"15977\",\"type\":\"Circle\"},{\"attributes\":{},\"id\":\"15963\",\"type\":\"WheelZoomTool\"},{\"attributes\":{\"text\":\"\"},\"id\":\"16508\",\"type\":\"Title\"},{\"attributes\":{},\"id\":\"15962\",\"type\":\"PanTool\"},{\"attributes\":{\"callback\":null},\"id\":\"15944\",\"type\":\"DataRange1d\"}],\"root_ids\":[\"15943\"]},\"title\":\"Bokeh Application\",\"version\":\"1.3.4\"}};\n",
       "  var render_items = [{\"docid\":\"9208a9bf-58c3-4aee-a30d-b6edd0c99909\",\"roots\":{\"15943\":\"1a4775ad-660c-41fe-9aa4-4b6e2d124b12\"}}];\n",
       "  root.Bokeh.embed.embed_items_notebook(docs_json, render_items);\n",
       "\n",
       "  }\n",
       "  if (root.Bokeh !== undefined) {\n",
       "    embed_document(root);\n",
       "  } else {\n",
       "    var attempts = 0;\n",
       "    var timer = setInterval(function(root) {\n",
       "      if (root.Bokeh !== undefined) {\n",
       "        embed_document(root);\n",
       "        clearInterval(timer);\n",
       "      }\n",
       "      attempts++;\n",
       "      if (attempts > 100) {\n",
       "        console.log(\"Bokeh: ERROR: Unable to run BokehJS code because BokehJS library is missing\");\n",
       "        clearInterval(timer);\n",
       "      }\n",
       "    }, 10, root)\n",
       "  }\n",
       "})(window);"
      ],
      "application/vnd.bokehjs_exec.v0+json": ""
     },
     "metadata": {
      "application/vnd.bokehjs_exec.v0+json": {
       "id": "15943"
      }
     },
     "output_type": "display_data"
    }
   ],
   "source": [
    "# EXERCISE Create a plot of your own and customize several axis properties\n",
    "p = figure(plot_width=400, plot_height=400)\n",
    "x = np.random.standard_normal(100)\n",
    "y = np.random.standard_normal(100)\n",
    "p.circle(x,y , size=3, color=\"red\")\n",
    "\n",
    "p.xaxis.axis_label = \"random numbers\"\n",
    "p.xaxis.axis_line_width = 7\n",
    "p.xaxis.axis_line_color = \"red\"\n",
    "show(p)"
   ]
  },
  {
   "cell_type": "code",
   "execution_count": 62,
   "metadata": {},
   "outputs": [
    {
     "ename": "AttributeError",
     "evalue": "'_list_attr_splat' object has no attribute 'formatter'",
     "output_type": "error",
     "traceback": [
      "\u001b[1;31m---------------------------------------------------------------------------\u001b[0m",
      "\u001b[1;31mAttributeError\u001b[0m                            Traceback (most recent call last)",
      "\u001b[1;32m<ipython-input-62-11ff12b87d16>\u001b[0m in \u001b[0;36m<module>\u001b[1;34m\u001b[0m\n\u001b[0;32m      5\u001b[0m \u001b[1;33m\u001b[0m\u001b[0m\n\u001b[0;32m      6\u001b[0m \u001b[0mp\u001b[0m \u001b[1;33m=\u001b[0m \u001b[0mfigure\u001b[0m\u001b[1;33m(\u001b[0m\u001b[0mx_axis_type\u001b[0m\u001b[1;33m=\u001b[0m\u001b[1;34m\"datetime\"\u001b[0m\u001b[1;33m,\u001b[0m \u001b[0mtitle\u001b[0m\u001b[1;33m=\u001b[0m\u001b[1;34m\"Glocose Range\"\u001b[0m\u001b[1;33m,\u001b[0m \u001b[0mplot_height\u001b[0m\u001b[1;33m=\u001b[0m\u001b[1;36m350\u001b[0m\u001b[1;33m,\u001b[0m \u001b[0mplot_width\u001b[0m\u001b[1;33m=\u001b[0m\u001b[1;36m800\u001b[0m\u001b[1;33m)\u001b[0m\u001b[1;33m\u001b[0m\u001b[1;33m\u001b[0m\u001b[0m\n\u001b[1;32m----> 7\u001b[1;33m \u001b[0mp\u001b[0m\u001b[1;33m.\u001b[0m\u001b[0mxaxis\u001b[0m\u001b[1;33m.\u001b[0m\u001b[0mformatter\u001b[0m\u001b[1;33m.\u001b[0m\u001b[0mdays\u001b[0m \u001b[1;33m=\u001b[0m \u001b[1;34m'%m/%d/%Y'\u001b[0m\u001b[1;33m\u001b[0m\u001b[1;33m\u001b[0m\u001b[0m\n\u001b[0m\u001b[0;32m      8\u001b[0m \u001b[0mp\u001b[0m\u001b[1;33m.\u001b[0m\u001b[0mxaxis\u001b[0m\u001b[1;33m.\u001b[0m\u001b[0mmajor_label_orientation\u001b[0m \u001b[1;33m=\u001b[0m \u001b[0mpi\u001b[0m\u001b[1;33m/\u001b[0m\u001b[1;36m3\u001b[0m\u001b[1;33m\u001b[0m\u001b[1;33m\u001b[0m\u001b[0m\n\u001b[0;32m      9\u001b[0m \u001b[1;33m\u001b[0m\u001b[0m\n",
      "\u001b[1;31mAttributeError\u001b[0m: '_list_attr_splat' object has no attribute 'formatter'"
     ]
    }
   ],
   "source": [
    "from math import pi\n",
    "from bokeh.sampledata.glucose import data\n",
    "\n",
    "week = data.loc['2010-10-01':'2010-10-08']\n",
    "\n",
    "p = figure(x_axis_type=\"datetime\", title=\"Glocose Range\", plot_height=350, plot_width=800)\n",
    "p.xaxis.formatter.days = '%m/%d/%Y'\n",
    "p.xaxis.major_label_orientation = pi/3\n",
    "\n",
    "p.line(week.index, week.glucose)\n",
    "\n",
    "show(p)"
   ]
  },
  {
   "cell_type": "code",
   "execution_count": 63,
   "metadata": {},
   "outputs": [
    {
     "data": {
      "text/html": [
       "\n",
       "\n",
       "\n",
       "\n",
       "\n",
       "\n",
       "  <div class=\"bk-root\" id=\"e0f49273-7e7c-441d-9d84-ca8a3eb8cd2a\" data-root-id=\"16639\"></div>\n"
      ]
     },
     "metadata": {},
     "output_type": "display_data"
    },
    {
     "data": {
      "application/javascript": [
       "(function(root) {\n",
       "  function embed_document(root) {\n",
       "    \n",
       "  var docs_json = {\"8ef67ad5-1d94-453d-9329-81d45a6b0542\":{\"roots\":{\"references\":[{\"attributes\":{\"below\":[{\"id\":\"16648\",\"type\":\"LinearAxis\"}],\"center\":[{\"id\":\"16652\",\"type\":\"Grid\"},{\"id\":\"16657\",\"type\":\"Grid\"}],\"left\":[{\"id\":\"16653\",\"type\":\"LinearAxis\"}],\"plot_height\":300,\"plot_width\":800,\"renderers\":[{\"id\":\"16674\",\"type\":\"GlyphRenderer\"}],\"title\":{\"id\":\"17217\",\"type\":\"Title\"},\"toolbar\":{\"id\":\"16664\",\"type\":\"Toolbar\"},\"x_range\":{\"id\":\"16640\",\"type\":\"DataRange1d\"},\"x_scale\":{\"id\":\"16644\",\"type\":\"LinearScale\"},\"y_range\":{\"id\":\"16642\",\"type\":\"DataRange1d\"},\"y_scale\":{\"id\":\"16646\",\"type\":\"LinearScale\"}},\"id\":\"16639\",\"subtype\":\"Figure\",\"type\":\"Plot\"},{\"attributes\":{},\"id\":\"17222\",\"type\":\"UnionRenderers\"},{\"attributes\":{\"formatter\":{\"id\":\"16676\",\"type\":\"NumeralTickFormatter\"},\"ticker\":{\"id\":\"16649\",\"type\":\"BasicTicker\"}},\"id\":\"16648\",\"type\":\"LinearAxis\"},{\"attributes\":{},\"id\":\"16654\",\"type\":\"BasicTicker\"},{\"attributes\":{},\"id\":\"16649\",\"type\":\"BasicTicker\"},{\"attributes\":{\"ticker\":{\"id\":\"16649\",\"type\":\"BasicTicker\"}},\"id\":\"16652\",\"type\":\"Grid\"},{\"attributes\":{\"dimension\":1,\"ticker\":{\"id\":\"16654\",\"type\":\"BasicTicker\"}},\"id\":\"16657\",\"type\":\"Grid\"},{\"attributes\":{\"format\":\"0.0%\"},\"id\":\"16676\",\"type\":\"NumeralTickFormatter\"},{\"attributes\":{\"formatter\":{\"id\":\"16678\",\"type\":\"NumeralTickFormatter\"},\"ticker\":{\"id\":\"16654\",\"type\":\"BasicTicker\"}},\"id\":\"16653\",\"type\":\"LinearAxis\"},{\"attributes\":{\"source\":{\"id\":\"16671\",\"type\":\"ColumnDataSource\"}},\"id\":\"16675\",\"type\":\"CDSView\"},{\"attributes\":{},\"id\":\"17223\",\"type\":\"Selection\"},{\"attributes\":{\"active_drag\":\"auto\",\"active_inspect\":\"auto\",\"active_multi\":null,\"active_scroll\":\"auto\",\"active_tap\":\"auto\",\"tools\":[{\"id\":\"16658\",\"type\":\"PanTool\"},{\"id\":\"16659\",\"type\":\"WheelZoomTool\"},{\"id\":\"16660\",\"type\":\"BoxZoomTool\"},{\"id\":\"16661\",\"type\":\"SaveTool\"},{\"id\":\"16662\",\"type\":\"ResetTool\"},{\"id\":\"16663\",\"type\":\"HelpTool\"}]},\"id\":\"16664\",\"type\":\"Toolbar\"},{\"attributes\":{\"callback\":null},\"id\":\"16642\",\"type\":\"DataRange1d\"},{\"attributes\":{\"callback\":null,\"data\":{\"x\":[1,2,3,4,5],\"y\":[2,5,8,2,7]},\"selected\":{\"id\":\"17223\",\"type\":\"Selection\"},\"selection_policy\":{\"id\":\"17222\",\"type\":\"UnionRenderers\"}},\"id\":\"16671\",\"type\":\"ColumnDataSource\"},{\"attributes\":{\"bottom_units\":\"screen\",\"fill_alpha\":{\"value\":0.5},\"fill_color\":{\"value\":\"lightgrey\"},\"left_units\":\"screen\",\"level\":\"overlay\",\"line_alpha\":{\"value\":1.0},\"line_color\":{\"value\":\"black\"},\"line_dash\":[4,4],\"line_width\":{\"value\":2},\"render_mode\":\"css\",\"right_units\":\"screen\",\"top_units\":\"screen\"},\"id\":\"17221\",\"type\":\"BoxAnnotation\"},{\"attributes\":{},\"id\":\"16658\",\"type\":\"PanTool\"},{\"attributes\":{},\"id\":\"16659\",\"type\":\"WheelZoomTool\"},{\"attributes\":{},\"id\":\"16662\",\"type\":\"ResetTool\"},{\"attributes\":{\"overlay\":{\"id\":\"17221\",\"type\":\"BoxAnnotation\"}},\"id\":\"16660\",\"type\":\"BoxZoomTool\"},{\"attributes\":{},\"id\":\"16663\",\"type\":\"HelpTool\"},{\"attributes\":{\"callback\":null},\"id\":\"16640\",\"type\":\"DataRange1d\"},{\"attributes\":{\"fill_alpha\":{\"value\":0.1},\"fill_color\":{\"value\":\"#1f77b4\"},\"line_alpha\":{\"value\":0.1},\"line_color\":{\"value\":\"#1f77b4\"},\"size\":{\"units\":\"screen\",\"value\":10},\"x\":{\"field\":\"x\"},\"y\":{\"field\":\"y\"}},\"id\":\"16673\",\"type\":\"Circle\"},{\"attributes\":{\"format\":\"$0.00\"},\"id\":\"16678\",\"type\":\"NumeralTickFormatter\"},{\"attributes\":{\"data_source\":{\"id\":\"16671\",\"type\":\"ColumnDataSource\"},\"glyph\":{\"id\":\"16672\",\"type\":\"Circle\"},\"hover_glyph\":null,\"muted_glyph\":null,\"nonselection_glyph\":{\"id\":\"16673\",\"type\":\"Circle\"},\"selection_glyph\":null,\"view\":{\"id\":\"16675\",\"type\":\"CDSView\"}},\"id\":\"16674\",\"type\":\"GlyphRenderer\"},{\"attributes\":{},\"id\":\"16644\",\"type\":\"LinearScale\"},{\"attributes\":{\"text\":\"\"},\"id\":\"17217\",\"type\":\"Title\"},{\"attributes\":{},\"id\":\"16661\",\"type\":\"SaveTool\"},{\"attributes\":{},\"id\":\"16646\",\"type\":\"LinearScale\"},{\"attributes\":{\"fill_color\":{\"value\":\"#1f77b4\"},\"line_color\":{\"value\":\"#1f77b4\"},\"size\":{\"units\":\"screen\",\"value\":10},\"x\":{\"field\":\"x\"},\"y\":{\"field\":\"y\"}},\"id\":\"16672\",\"type\":\"Circle\"}],\"root_ids\":[\"16639\"]},\"title\":\"Bokeh Application\",\"version\":\"1.3.4\"}};\n",
       "  var render_items = [{\"docid\":\"8ef67ad5-1d94-453d-9329-81d45a6b0542\",\"roots\":{\"16639\":\"e0f49273-7e7c-441d-9d84-ca8a3eb8cd2a\"}}];\n",
       "  root.Bokeh.embed.embed_items_notebook(docs_json, render_items);\n",
       "\n",
       "  }\n",
       "  if (root.Bokeh !== undefined) {\n",
       "    embed_document(root);\n",
       "  } else {\n",
       "    var attempts = 0;\n",
       "    var timer = setInterval(function(root) {\n",
       "      if (root.Bokeh !== undefined) {\n",
       "        embed_document(root);\n",
       "        clearInterval(timer);\n",
       "      }\n",
       "      attempts++;\n",
       "      if (attempts > 100) {\n",
       "        console.log(\"Bokeh: ERROR: Unable to run BokehJS code because BokehJS library is missing\");\n",
       "        clearInterval(timer);\n",
       "      }\n",
       "    }, 10, root)\n",
       "  }\n",
       "})(window);"
      ],
      "application/vnd.bokehjs_exec.v0+json": ""
     },
     "metadata": {
      "application/vnd.bokehjs_exec.v0+json": {
       "id": "16639"
      }
     },
     "output_type": "display_data"
    }
   ],
   "source": [
    "from bokeh.models import NumeralTickFormatter\n",
    "\n",
    "p = figure(plot_height=300, plot_width=800)\n",
    "p.circle([1,2,3,4,5], [2,5,8,2,7], size=10)\n",
    "\n",
    "p.xaxis.formatter = NumeralTickFormatter(format=\"0.0%\")\n",
    "p.yaxis.formatter = NumeralTickFormatter(format=\"$0.00\")\n",
    "\n",
    "show(p)"
   ]
  },
  {
   "cell_type": "code",
   "execution_count": 64,
   "metadata": {},
   "outputs": [
    {
     "data": {
      "text/html": [
       "\n",
       "\n",
       "\n",
       "\n",
       "\n",
       "\n",
       "  <div class=\"bk-root\" id=\"ad4a14a6-0c9a-43a1-92ce-653cdcf5a3fc\" data-root-id=\"17266\"></div>\n"
      ]
     },
     "metadata": {},
     "output_type": "display_data"
    },
    {
     "data": {
      "application/javascript": [
       "(function(root) {\n",
       "  function embed_document(root) {\n",
       "    \n",
       "  var docs_json = {\"94782c44-8a4a-48e7-8842-869373e2bc57\":{\"roots\":{\"references\":[{\"attributes\":{\"below\":[{\"id\":\"17275\",\"type\":\"LinearAxis\"}],\"center\":[{\"id\":\"17279\",\"type\":\"Grid\"},{\"id\":\"17284\",\"type\":\"Grid\"}],\"left\":[{\"id\":\"17280\",\"type\":\"LinearAxis\"}],\"plot_height\":400,\"plot_width\":400,\"renderers\":[{\"id\":\"17301\",\"type\":\"GlyphRenderer\"}],\"title\":{\"id\":\"17847\",\"type\":\"Title\"},\"toolbar\":{\"id\":\"17291\",\"type\":\"Toolbar\"},\"x_range\":{\"id\":\"17267\",\"type\":\"DataRange1d\"},\"x_scale\":{\"id\":\"17271\",\"type\":\"LinearScale\"},\"y_range\":{\"id\":\"17269\",\"type\":\"DataRange1d\"},\"y_scale\":{\"id\":\"17273\",\"type\":\"LinearScale\"}},\"id\":\"17266\",\"subtype\":\"Figure\",\"type\":\"Plot\"},{\"attributes\":{},\"id\":\"17854\",\"type\":\"UnionRenderers\"},{\"attributes\":{},\"id\":\"17288\",\"type\":\"SaveTool\"},{\"attributes\":{\"source\":{\"id\":\"17298\",\"type\":\"ColumnDataSource\"}},\"id\":\"17302\",\"type\":\"CDSView\"},{\"attributes\":{\"text\":\"\"},\"id\":\"17847\",\"type\":\"Title\"},{\"attributes\":{},\"id\":\"17290\",\"type\":\"HelpTool\"},{\"attributes\":{},\"id\":\"17289\",\"type\":\"ResetTool\"},{\"attributes\":{\"data_source\":{\"id\":\"17298\",\"type\":\"ColumnDataSource\"},\"glyph\":{\"id\":\"17299\",\"type\":\"Circle\"},\"hover_glyph\":null,\"muted_glyph\":null,\"nonselection_glyph\":{\"id\":\"17300\",\"type\":\"Circle\"},\"selection_glyph\":null,\"view\":{\"id\":\"17302\",\"type\":\"CDSView\"}},\"id\":\"17301\",\"type\":\"GlyphRenderer\"},{\"attributes\":{\"fill_alpha\":{\"value\":0.1},\"fill_color\":{\"value\":\"#1f77b4\"},\"line_alpha\":{\"value\":0.1},\"line_color\":{\"value\":\"#1f77b4\"},\"size\":{\"units\":\"screen\",\"value\":10},\"x\":{\"field\":\"x\"},\"y\":{\"field\":\"y\"}},\"id\":\"17300\",\"type\":\"Circle\"},{\"attributes\":{\"overlay\":{\"id\":\"17853\",\"type\":\"BoxAnnotation\"}},\"id\":\"17287\",\"type\":\"BoxZoomTool\"},{\"attributes\":{},\"id\":\"17286\",\"type\":\"WheelZoomTool\"},{\"attributes\":{},\"id\":\"17271\",\"type\":\"LinearScale\"},{\"attributes\":{},\"id\":\"17855\",\"type\":\"Selection\"},{\"attributes\":{\"bottom_units\":\"screen\",\"fill_alpha\":{\"value\":0.5},\"fill_color\":{\"value\":\"lightgrey\"},\"left_units\":\"screen\",\"level\":\"overlay\",\"line_alpha\":{\"value\":1.0},\"line_color\":{\"value\":\"black\"},\"line_dash\":[4,4],\"line_width\":{\"value\":2},\"render_mode\":\"css\",\"right_units\":\"screen\",\"top_units\":\"screen\"},\"id\":\"17853\",\"type\":\"BoxAnnotation\"},{\"attributes\":{},\"id\":\"17852\",\"type\":\"BasicTickFormatter\"},{\"attributes\":{\"callback\":null},\"id\":\"17267\",\"type\":\"DataRange1d\"},{\"attributes\":{},\"id\":\"17273\",\"type\":\"LinearScale\"},{\"attributes\":{\"callback\":null},\"id\":\"17269\",\"type\":\"DataRange1d\"},{\"attributes\":{\"formatter\":{\"id\":\"17850\",\"type\":\"BasicTickFormatter\"},\"ticker\":{\"id\":\"17276\",\"type\":\"BasicTicker\"}},\"id\":\"17275\",\"type\":\"LinearAxis\"},{\"attributes\":{},\"id\":\"17850\",\"type\":\"BasicTickFormatter\"},{\"attributes\":{},\"id\":\"17281\",\"type\":\"BasicTicker\"},{\"attributes\":{},\"id\":\"17285\",\"type\":\"PanTool\"},{\"attributes\":{},\"id\":\"17276\",\"type\":\"BasicTicker\"},{\"attributes\":{\"active_drag\":\"auto\",\"active_inspect\":\"auto\",\"active_multi\":null,\"active_scroll\":\"auto\",\"active_tap\":\"auto\",\"tools\":[{\"id\":\"17285\",\"type\":\"PanTool\"},{\"id\":\"17286\",\"type\":\"WheelZoomTool\"},{\"id\":\"17287\",\"type\":\"BoxZoomTool\"},{\"id\":\"17288\",\"type\":\"SaveTool\"},{\"id\":\"17289\",\"type\":\"ResetTool\"},{\"id\":\"17290\",\"type\":\"HelpTool\"}]},\"id\":\"17291\",\"type\":\"Toolbar\"},{\"attributes\":{\"fill_color\":{\"value\":\"#1f77b4\"},\"line_color\":{\"value\":\"#1f77b4\"},\"size\":{\"units\":\"screen\",\"value\":10},\"x\":{\"field\":\"x\"},\"y\":{\"field\":\"y\"}},\"id\":\"17299\",\"type\":\"Circle\"},{\"attributes\":{\"dimension\":1,\"grid_line_alpha\":0.5,\"grid_line_dash\":[6,4],\"ticker\":{\"id\":\"17281\",\"type\":\"BasicTicker\"}},\"id\":\"17284\",\"type\":\"Grid\"},{\"attributes\":{\"grid_line_color\":null,\"ticker\":{\"id\":\"17276\",\"type\":\"BasicTicker\"}},\"id\":\"17279\",\"type\":\"Grid\"},{\"attributes\":{\"formatter\":{\"id\":\"17852\",\"type\":\"BasicTickFormatter\"},\"ticker\":{\"id\":\"17281\",\"type\":\"BasicTicker\"}},\"id\":\"17280\",\"type\":\"LinearAxis\"},{\"attributes\":{\"callback\":null,\"data\":{\"x\":[1,2,3,4,5],\"y\":[2,5,8,2,7]},\"selected\":{\"id\":\"17855\",\"type\":\"Selection\"},\"selection_policy\":{\"id\":\"17854\",\"type\":\"UnionRenderers\"}},\"id\":\"17298\",\"type\":\"ColumnDataSource\"}],\"root_ids\":[\"17266\"]},\"title\":\"Bokeh Application\",\"version\":\"1.3.4\"}};\n",
       "  var render_items = [{\"docid\":\"94782c44-8a4a-48e7-8842-869373e2bc57\",\"roots\":{\"17266\":\"ad4a14a6-0c9a-43a1-92ce-653cdcf5a3fc\"}}];\n",
       "  root.Bokeh.embed.embed_items_notebook(docs_json, render_items);\n",
       "\n",
       "  }\n",
       "  if (root.Bokeh !== undefined) {\n",
       "    embed_document(root);\n",
       "  } else {\n",
       "    var attempts = 0;\n",
       "    var timer = setInterval(function(root) {\n",
       "      if (root.Bokeh !== undefined) {\n",
       "        embed_document(root);\n",
       "        clearInterval(timer);\n",
       "      }\n",
       "      attempts++;\n",
       "      if (attempts > 100) {\n",
       "        console.log(\"Bokeh: ERROR: Unable to run BokehJS code because BokehJS library is missing\");\n",
       "        clearInterval(timer);\n",
       "      }\n",
       "    }, 10, root)\n",
       "  }\n",
       "})(window);"
      ],
      "application/vnd.bokehjs_exec.v0+json": ""
     },
     "metadata": {
      "application/vnd.bokehjs_exec.v0+json": {
       "id": "17266"
      }
     },
     "output_type": "display_data"
    }
   ],
   "source": [
    "p = figure(plot_width=400, plot_height=400)\n",
    "p.circle([1,2,3,4,5], [2,5,8,2,7], size=10)\n",
    "\n",
    "# change just some things about the x-grid\n",
    "p.xgrid.grid_line_color = None\n",
    "\n",
    "# change just some things about the y-grid\n",
    "p.ygrid.grid_line_alpha = 0.5\n",
    "p.ygrid.grid_line_dash = [6, 4]\n",
    "\n",
    "show(p)"
   ]
  },
  {
   "cell_type": "code",
   "execution_count": 65,
   "metadata": {},
   "outputs": [
    {
     "data": {
      "text/html": [
       "\n",
       "\n",
       "\n",
       "\n",
       "\n",
       "\n",
       "  <div class=\"bk-root\" id=\"8b406d81-4fe2-47f5-b72e-eff26d379634\" data-root-id=\"17910\"></div>\n"
      ]
     },
     "metadata": {},
     "output_type": "display_data"
    },
    {
     "data": {
      "application/javascript": [
       "(function(root) {\n",
       "  function embed_document(root) {\n",
       "    \n",
       "  var docs_json = {\"dc9f047f-7116-4c5b-9e99-17bd7cb01af6\":{\"roots\":{\"references\":[{\"attributes\":{\"below\":[{\"id\":\"17919\",\"type\":\"LinearAxis\"}],\"center\":[{\"id\":\"17923\",\"type\":\"Grid\"},{\"id\":\"17928\",\"type\":\"Grid\"}],\"left\":[{\"id\":\"17924\",\"type\":\"LinearAxis\"}],\"plot_height\":400,\"plot_width\":400,\"renderers\":[{\"id\":\"17945\",\"type\":\"GlyphRenderer\"}],\"title\":{\"id\":\"18500\",\"type\":\"Title\"},\"toolbar\":{\"id\":\"17935\",\"type\":\"Toolbar\"},\"x_range\":{\"id\":\"17911\",\"type\":\"DataRange1d\"},\"x_scale\":{\"id\":\"17915\",\"type\":\"LinearScale\"},\"y_range\":{\"id\":\"17913\",\"type\":\"DataRange1d\"},\"y_scale\":{\"id\":\"17917\",\"type\":\"LinearScale\"}},\"id\":\"17910\",\"subtype\":\"Figure\",\"type\":\"Plot\"},{\"attributes\":{},\"id\":\"18508\",\"type\":\"Selection\"},{\"attributes\":{\"bottom_units\":\"screen\",\"fill_alpha\":{\"value\":0.5},\"fill_color\":{\"value\":\"lightgrey\"},\"left_units\":\"screen\",\"level\":\"overlay\",\"line_alpha\":{\"value\":1.0},\"line_color\":{\"value\":\"black\"},\"line_dash\":[4,4],\"line_width\":{\"value\":2},\"render_mode\":\"css\",\"right_units\":\"screen\",\"top_units\":\"screen\"},\"id\":\"18506\",\"type\":\"BoxAnnotation\"},{\"attributes\":{},\"id\":\"18503\",\"type\":\"BasicTickFormatter\"},{\"attributes\":{\"fill_color\":{\"value\":\"#1f77b4\"},\"line_color\":{\"value\":\"#1f77b4\"},\"size\":{\"units\":\"screen\",\"value\":10},\"x\":{\"field\":\"x\"},\"y\":{\"field\":\"y\"}},\"id\":\"17943\",\"type\":\"Circle\"},{\"attributes\":{\"callback\":null},\"id\":\"17911\",\"type\":\"DataRange1d\"},{\"attributes\":{\"callback\":null},\"id\":\"17913\",\"type\":\"DataRange1d\"},{\"attributes\":{\"fill_alpha\":{\"value\":0.1},\"fill_color\":{\"value\":\"#1f77b4\"},\"line_alpha\":{\"value\":0.1},\"line_color\":{\"value\":\"#1f77b4\"},\"size\":{\"units\":\"screen\",\"value\":10},\"x\":{\"field\":\"x\"},\"y\":{\"field\":\"y\"}},\"id\":\"17944\",\"type\":\"Circle\"},{\"attributes\":{},\"id\":\"17915\",\"type\":\"LinearScale\"},{\"attributes\":{},\"id\":\"18507\",\"type\":\"UnionRenderers\"},{\"attributes\":{},\"id\":\"17925\",\"type\":\"BasicTicker\"},{\"attributes\":{},\"id\":\"17920\",\"type\":\"BasicTicker\"},{\"attributes\":{},\"id\":\"17917\",\"type\":\"LinearScale\"},{\"attributes\":{},\"id\":\"17929\",\"type\":\"PanTool\"},{\"attributes\":{\"formatter\":{\"id\":\"18503\",\"type\":\"BasicTickFormatter\"},\"ticker\":{\"id\":\"17920\",\"type\":\"BasicTicker\"}},\"id\":\"17919\",\"type\":\"LinearAxis\"},{\"attributes\":{\"callback\":null,\"data\":{\"x\":[1,2,3,4,5],\"y\":[2,5,8,2,7]},\"selected\":{\"id\":\"18508\",\"type\":\"Selection\"},\"selection_policy\":{\"id\":\"18507\",\"type\":\"UnionRenderers\"}},\"id\":\"17942\",\"type\":\"ColumnDataSource\"},{\"attributes\":{\"band_fill_alpha\":0.1,\"band_fill_color\":\"navy\",\"dimension\":1,\"ticker\":{\"id\":\"17925\",\"type\":\"BasicTicker\"}},\"id\":\"17928\",\"type\":\"Grid\"},{\"attributes\":{\"text\":\"\"},\"id\":\"18500\",\"type\":\"Title\"},{\"attributes\":{},\"id\":\"18505\",\"type\":\"BasicTickFormatter\"},{\"attributes\":{\"active_drag\":\"auto\",\"active_inspect\":\"auto\",\"active_multi\":null,\"active_scroll\":\"auto\",\"active_tap\":\"auto\",\"tools\":[{\"id\":\"17929\",\"type\":\"PanTool\"},{\"id\":\"17930\",\"type\":\"WheelZoomTool\"},{\"id\":\"17931\",\"type\":\"BoxZoomTool\"},{\"id\":\"17932\",\"type\":\"SaveTool\"},{\"id\":\"17933\",\"type\":\"ResetTool\"},{\"id\":\"17934\",\"type\":\"HelpTool\"}]},\"id\":\"17935\",\"type\":\"Toolbar\"},{\"attributes\":{},\"id\":\"17933\",\"type\":\"ResetTool\"},{\"attributes\":{\"formatter\":{\"id\":\"18505\",\"type\":\"BasicTickFormatter\"},\"ticker\":{\"id\":\"17925\",\"type\":\"BasicTicker\"}},\"id\":\"17924\",\"type\":\"LinearAxis\"},{\"attributes\":{},\"id\":\"17934\",\"type\":\"HelpTool\"},{\"attributes\":{\"overlay\":{\"id\":\"18506\",\"type\":\"BoxAnnotation\"}},\"id\":\"17931\",\"type\":\"BoxZoomTool\"},{\"attributes\":{\"source\":{\"id\":\"17942\",\"type\":\"ColumnDataSource\"}},\"id\":\"17946\",\"type\":\"CDSView\"},{\"attributes\":{},\"id\":\"17932\",\"type\":\"SaveTool\"},{\"attributes\":{},\"id\":\"17930\",\"type\":\"WheelZoomTool\"},{\"attributes\":{\"grid_line_color\":null,\"ticker\":{\"id\":\"17920\",\"type\":\"BasicTicker\"}},\"id\":\"17923\",\"type\":\"Grid\"},{\"attributes\":{\"data_source\":{\"id\":\"17942\",\"type\":\"ColumnDataSource\"},\"glyph\":{\"id\":\"17943\",\"type\":\"Circle\"},\"hover_glyph\":null,\"muted_glyph\":null,\"nonselection_glyph\":{\"id\":\"17944\",\"type\":\"Circle\"},\"selection_glyph\":null,\"view\":{\"id\":\"17946\",\"type\":\"CDSView\"}},\"id\":\"17945\",\"type\":\"GlyphRenderer\"}],\"root_ids\":[\"17910\"]},\"title\":\"Bokeh Application\",\"version\":\"1.3.4\"}};\n",
       "  var render_items = [{\"docid\":\"dc9f047f-7116-4c5b-9e99-17bd7cb01af6\",\"roots\":{\"17910\":\"8b406d81-4fe2-47f5-b72e-eff26d379634\"}}];\n",
       "  root.Bokeh.embed.embed_items_notebook(docs_json, render_items);\n",
       "\n",
       "  }\n",
       "  if (root.Bokeh !== undefined) {\n",
       "    embed_document(root);\n",
       "  } else {\n",
       "    var attempts = 0;\n",
       "    var timer = setInterval(function(root) {\n",
       "      if (root.Bokeh !== undefined) {\n",
       "        embed_document(root);\n",
       "        clearInterval(timer);\n",
       "      }\n",
       "      attempts++;\n",
       "      if (attempts > 100) {\n",
       "        console.log(\"Bokeh: ERROR: Unable to run BokehJS code because BokehJS library is missing\");\n",
       "        clearInterval(timer);\n",
       "      }\n",
       "    }, 10, root)\n",
       "  }\n",
       "})(window);"
      ],
      "application/vnd.bokehjs_exec.v0+json": ""
     },
     "metadata": {
      "application/vnd.bokehjs_exec.v0+json": {
       "id": "17910"
      }
     },
     "output_type": "display_data"
    }
   ],
   "source": [
    "p = figure(plot_width=400, plot_height=400)\n",
    "p.circle([1,2,3,4,5], [2,5,8,2,7], size=10)\n",
    "\n",
    "# change just some things about the x-grid\n",
    "p.xgrid.grid_line_color = None\n",
    "\n",
    "# change just some things about the y-grid\n",
    "p.ygrid.band_fill_alpha = 0.1\n",
    "p.ygrid.band_fill_color = \"navy\"\n",
    "\n",
    "show(p)"
   ]
  },
  {
   "cell_type": "code",
   "execution_count": 76,
   "metadata": {},
   "outputs": [
    {
     "data": {
      "text/html": [
       "\n",
       "\n",
       "\n",
       "\n",
       "\n",
       "\n",
       "  <div class=\"bk-root\" id=\"4c6bd418-1e80-4075-88f3-6bd1aa4b75f1\" data-root-id=\"25588\"></div>\n"
      ]
     },
     "metadata": {},
     "output_type": "display_data"
    },
    {
     "data": {
      "application/javascript": [
       "(function(root) {\n",
       "  function embed_document(root) {\n",
       "    \n",
       "  var docs_json = {\"0b1f160e-21e8-41e9-9b8f-c6e8b48f5410\":{\"roots\":{\"references\":[{\"attributes\":{\"below\":[{\"id\":\"25597\",\"type\":\"LinearAxis\"}],\"center\":[{\"id\":\"25601\",\"type\":\"Grid\"},{\"id\":\"25606\",\"type\":\"Grid\"}],\"left\":[{\"id\":\"25602\",\"type\":\"LinearAxis\"}],\"plot_height\":400,\"plot_width\":400,\"renderers\":[{\"id\":\"25623\",\"type\":\"GlyphRenderer\"}],\"title\":{\"id\":\"26277\",\"type\":\"Title\"},\"toolbar\":{\"id\":\"25613\",\"type\":\"Toolbar\"},\"x_range\":{\"id\":\"25589\",\"type\":\"DataRange1d\"},\"x_scale\":{\"id\":\"25593\",\"type\":\"LinearScale\"},\"y_range\":{\"id\":\"25591\",\"type\":\"DataRange1d\"},\"y_scale\":{\"id\":\"25595\",\"type\":\"LinearScale\"}},\"id\":\"25588\",\"subtype\":\"Figure\",\"type\":\"Plot\"},{\"attributes\":{},\"id\":\"26284\",\"type\":\"UnionRenderers\"},{\"attributes\":{},\"id\":\"25595\",\"type\":\"LinearScale\"},{\"attributes\":{\"text\":\"\"},\"id\":\"26277\",\"type\":\"Title\"},{\"attributes\":{},\"id\":\"25603\",\"type\":\"BasicTicker\"},{\"attributes\":{\"bottom_units\":\"screen\",\"fill_alpha\":{\"value\":0.5},\"fill_color\":{\"value\":\"lightgrey\"},\"left_units\":\"screen\",\"level\":\"overlay\",\"line_alpha\":{\"value\":1.0},\"line_color\":{\"value\":\"black\"},\"line_dash\":[4,4],\"line_width\":{\"value\":2},\"render_mode\":\"css\",\"right_units\":\"screen\",\"top_units\":\"screen\"},\"id\":\"26283\",\"type\":\"BoxAnnotation\"},{\"attributes\":{},\"id\":\"26282\",\"type\":\"BasicTickFormatter\"},{\"attributes\":{},\"id\":\"25598\",\"type\":\"BasicTicker\"},{\"attributes\":{\"callback\":null},\"id\":\"25589\",\"type\":\"DataRange1d\"},{\"attributes\":{},\"id\":\"25593\",\"type\":\"LinearScale\"},{\"attributes\":{\"callback\":null},\"id\":\"25591\",\"type\":\"DataRange1d\"},{\"attributes\":{\"fill_color\":{\"value\":\"#1f77b4\"},\"line_color\":{\"value\":\"#1f77b4\"},\"size\":{\"units\":\"screen\",\"value\":2.7},\"x\":{\"field\":\"x\"},\"y\":{\"field\":\"y\"}},\"id\":\"25621\",\"type\":\"Circle\"},{\"attributes\":{\"formatter\":{\"id\":\"26280\",\"type\":\"BasicTickFormatter\"},\"ticker\":{\"id\":\"25598\",\"type\":\"BasicTicker\"}},\"id\":\"25597\",\"type\":\"LinearAxis\"},{\"attributes\":{\"dimension\":1,\"grid_line_color\":\"gray\",\"grid_line_dash\":[2,2],\"ticker\":{\"id\":\"25603\",\"type\":\"BasicTicker\"}},\"id\":\"25606\",\"type\":\"Grid\"},{\"attributes\":{},\"id\":\"26280\",\"type\":\"BasicTickFormatter\"},{\"attributes\":{\"grid_line_color\":\"gray\",\"grid_line_dash\":[2,2],\"ticker\":{\"id\":\"25598\",\"type\":\"BasicTicker\"}},\"id\":\"25601\",\"type\":\"Grid\"},{\"attributes\":{},\"id\":\"25607\",\"type\":\"PanTool\"},{\"attributes\":{\"active_drag\":\"auto\",\"active_inspect\":\"auto\",\"active_multi\":null,\"active_scroll\":\"auto\",\"active_tap\":\"auto\",\"tools\":[{\"id\":\"25607\",\"type\":\"PanTool\"},{\"id\":\"25608\",\"type\":\"WheelZoomTool\"},{\"id\":\"25609\",\"type\":\"BoxZoomTool\"},{\"id\":\"25610\",\"type\":\"SaveTool\"},{\"id\":\"25611\",\"type\":\"ResetTool\"},{\"id\":\"25612\",\"type\":\"HelpTool\"}]},\"id\":\"25613\",\"type\":\"Toolbar\"},{\"attributes\":{\"callback\":null,\"data\":{\"x\":{\"__ndarray__\":\"KKZdJrAEuz8paBfe0Q7IP07HwbFNDtk/t9A0xMpm8D+IrlpkAwTnv5ASUeEgAOi/5/b7icNTAcD8qwxkFnfPP0UUahKzrdo/IUAwPizy2L8BHRey4RHkPyfaOTQeFAFAHcop7SCEsT9ouTGKfTviv8RxC7uYbt6/pY/zVHYH9j9mFTl5ap/sPyqRSmaaVPE/ppiNAFYv2L8isF9ykqHgP3o5kEn6oL4/HcSnnzxf2D+IxRSChav/P4/48FcQKvC/hJadNPQJnD9cw0LRwMvUvxC6aJLavug/M1EJlJax0r/ptW03M0z7v0dbF3+yl9y//ITIEb/j+z8Vl32QAYi4vw+dCM4jvda/g1sNFZLp+D9aHVPZKmntPxjijGiY0vy/g+AUJPH26D8hpB/dpC3tP6mDxzPq5d8/wKyn5mbZ4T+cHRhQ7f72P3AwCXg3sgJAcM8z9Zf95z8v6kKOdd/jv29rFffj6tg/F9CgkJHY3j9rgwKy/or4v7DTHTLNRdm/30CBc0ui4L/Cu+7E/gToPyKqGdgYntq/PnQrhZQc+D8f9EBxzifcv3nvuasR6te/jT3bpQX0+D+x7wvEbnT9v8GMKsURX+C/6nE24cQP4T/P4ePcBfDavw8dMYMALua/\",\"dtype\":\"float64\",\"shape\":[60]},\"y\":{\"__ndarray__\":\"+UlAIcnk3D+gyiI/xxzqP+ClYLhnoOa/wEoiCDOy4b97XstUyOnSv+vxvkzMU7K/Im/FpFpN5r/vDLi3WljoP3HlP7PFyPS/k6PyelGHur9zMjpf3vz0PxPxE2ZQPvA/ww+0K9+/6D932h+naETQv1cVYh978eI/CBv/GOiv6L866k4/VrHmP1YuJzAeY/k/nuI3dDpc+D9EY990QhUKwNXRMSfhHfM/dxAHSQqZ5r/WTAKVhsPQvwDgSGql47Q/x94Qqtl++L8FRjKXHRjpv6ACMKmu6vC/Gv5lpS0s0D/hcLpg9UPrv0dzv2ALUNY/P4d6Hv4xxT+pCDch9UTwv8iIQFz39OC/iRMYabY69T+Ed3QbMxPov0PGGaSN/dY/+is7RRyw+j/CW/d7WuOavyi62VubbOW/qw35Bf84sD+4Lg/IMAX7v4pHH28fML2/rgSCB9xc2T+XAmoGFcfXPzOUlAUtPui/3BZR7wIq4D/Z1RkmJdHxv3MZ54w/xOW/52Cpfs+/1L9J87xVUgzkv08e1Mudx+U/vyB7RrUozT9hmn80x+X0v12dsGg6cN+/AZ1TkkWy1z+0FJo1HVTQvyYpxnP2mvC/ZPLAZ2zyuL+J4r4HMujwPxpdqU+tNvW/\",\"dtype\":\"float64\",\"shape\":[60]}},\"selected\":{\"id\":\"26285\",\"type\":\"Selection\"},\"selection_policy\":{\"id\":\"26284\",\"type\":\"UnionRenderers\"}},\"id\":\"25620\",\"type\":\"ColumnDataSource\"},{\"attributes\":{},\"id\":\"26285\",\"type\":\"Selection\"},{\"attributes\":{\"formatter\":{\"id\":\"26282\",\"type\":\"BasicTickFormatter\"},\"ticker\":{\"id\":\"25603\",\"type\":\"BasicTicker\"}},\"id\":\"25602\",\"type\":\"LinearAxis\"},{\"attributes\":{},\"id\":\"25608\",\"type\":\"WheelZoomTool\"},{\"attributes\":{},\"id\":\"25611\",\"type\":\"ResetTool\"},{\"attributes\":{\"overlay\":{\"id\":\"26283\",\"type\":\"BoxAnnotation\"}},\"id\":\"25609\",\"type\":\"BoxZoomTool\"},{\"attributes\":{},\"id\":\"25610\",\"type\":\"SaveTool\"},{\"attributes\":{\"source\":{\"id\":\"25620\",\"type\":\"ColumnDataSource\"}},\"id\":\"25624\",\"type\":\"CDSView\"},{\"attributes\":{\"fill_alpha\":{\"value\":0.1},\"fill_color\":{\"value\":\"#1f77b4\"},\"line_alpha\":{\"value\":0.1},\"line_color\":{\"value\":\"#1f77b4\"},\"size\":{\"units\":\"screen\",\"value\":2.7},\"x\":{\"field\":\"x\"},\"y\":{\"field\":\"y\"}},\"id\":\"25622\",\"type\":\"Circle\"},{\"attributes\":{},\"id\":\"25612\",\"type\":\"HelpTool\"},{\"attributes\":{\"data_source\":{\"id\":\"25620\",\"type\":\"ColumnDataSource\"},\"glyph\":{\"id\":\"25621\",\"type\":\"Circle\"},\"hover_glyph\":null,\"muted_glyph\":null,\"nonselection_glyph\":{\"id\":\"25622\",\"type\":\"Circle\"},\"selection_glyph\":null,\"view\":{\"id\":\"25624\",\"type\":\"CDSView\"}},\"id\":\"25623\",\"type\":\"GlyphRenderer\"}],\"root_ids\":[\"25588\"]},\"title\":\"Bokeh Application\",\"version\":\"1.3.4\"}};\n",
       "  var render_items = [{\"docid\":\"0b1f160e-21e8-41e9-9b8f-c6e8b48f5410\",\"roots\":{\"25588\":\"4c6bd418-1e80-4075-88f3-6bd1aa4b75f1\"}}];\n",
       "  root.Bokeh.embed.embed_items_notebook(docs_json, render_items);\n",
       "\n",
       "  }\n",
       "  if (root.Bokeh !== undefined) {\n",
       "    embed_document(root);\n",
       "  } else {\n",
       "    var attempts = 0;\n",
       "    var timer = setInterval(function(root) {\n",
       "      if (root.Bokeh !== undefined) {\n",
       "        embed_document(root);\n",
       "        clearInterval(timer);\n",
       "      }\n",
       "      attempts++;\n",
       "      if (attempts > 100) {\n",
       "        console.log(\"Bokeh: ERROR: Unable to run BokehJS code because BokehJS library is missing\");\n",
       "        clearInterval(timer);\n",
       "      }\n",
       "    }, 10, root)\n",
       "  }\n",
       "})(window);"
      ],
      "application/vnd.bokehjs_exec.v0+json": ""
     },
     "metadata": {
      "application/vnd.bokehjs_exec.v0+json": {
       "id": "25588"
      }
     },
     "output_type": "display_data"
    }
   ],
   "source": [
    "# EXERCISE Create a plot of your own and customize several grid properties\n",
    "p = figure(plot_width=400, plot_height=400)\n",
    "x = np.random.standard_normal(60)\n",
    "y = np.random.standard_normal(60)\n",
    "p.circle(x ,y , size=2.7 , )\n",
    "\n",
    "p.xgrid.grid_line_color = 'gray'\n",
    "p.xgrid.grid_line_dash = [2, 2]\n",
    "\n",
    "p.ygrid.grid_line_color = 'gray'\n",
    "p.ygrid.grid_line_dash = [2, 2]\n",
    "\n",
    "show(p)"
   ]
  }
 ],
 "metadata": {
  "kernelspec": {
   "display_name": "Python 3",
   "language": "python",
   "name": "python3"
  },
  "language_info": {
   "codemirror_mode": {
    "name": "ipython",
    "version": 3
   },
   "file_extension": ".py",
   "mimetype": "text/x-python",
   "name": "python",
   "nbconvert_exporter": "python",
   "pygments_lexer": "ipython3",
   "version": "3.7.4"
  }
 },
 "nbformat": 4,
 "nbformat_minor": 2
}
